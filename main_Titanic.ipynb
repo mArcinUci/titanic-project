{
 "cells": [
  {
   "cell_type": "markdown",
   "id": "81dc40db",
   "metadata": {},
   "source": [
    "## Titanic - Machine Learning from Disasters \n",
    "\n",
    "hi folks,\n",
    "this is my first ever project (when I am writing it I still do not know the final score).\n",
    "I will try to keep it as simple as possible.\n",
    "The goal is: \"use machine learning to create a model that predicts which passengers survived the Titanic shipwreck\".\n",
    "So I have a goal, great. What about data to work with? There are two files: training set (train.csv) and test set (test.csv). It would be best to see those files, however I need to import some libraries first."
   ]
  },
  {
   "cell_type": "code",
   "execution_count": 2,
   "id": "e51e5fc6",
   "metadata": {},
   "outputs": [],
   "source": [
    "import pandas as pd\n",
    "import pandas_profiling\n",
    "import numpy as np\n",
    "import matplotlib.pyplot as plt\n",
    "import seaborn as sns\n",
    "import missingno as msno"
   ]
  },
  {
   "cell_type": "code",
   "execution_count": 3,
   "id": "f72155e9",
   "metadata": {
    "scrolled": false
   },
   "outputs": [
    {
     "data": {
      "text/html": [
       "<div>\n",
       "<style scoped>\n",
       "    .dataframe tbody tr th:only-of-type {\n",
       "        vertical-align: middle;\n",
       "    }\n",
       "\n",
       "    .dataframe tbody tr th {\n",
       "        vertical-align: top;\n",
       "    }\n",
       "\n",
       "    .dataframe thead th {\n",
       "        text-align: right;\n",
       "    }\n",
       "</style>\n",
       "<table border=\"1\" class=\"dataframe\">\n",
       "  <thead>\n",
       "    <tr style=\"text-align: right;\">\n",
       "      <th></th>\n",
       "      <th>PassengerId</th>\n",
       "      <th>Survived</th>\n",
       "      <th>Pclass</th>\n",
       "      <th>Name</th>\n",
       "      <th>Sex</th>\n",
       "      <th>Age</th>\n",
       "      <th>SibSp</th>\n",
       "      <th>Parch</th>\n",
       "      <th>Ticket</th>\n",
       "      <th>Fare</th>\n",
       "      <th>Cabin</th>\n",
       "      <th>Embarked</th>\n",
       "    </tr>\n",
       "  </thead>\n",
       "  <tbody>\n",
       "    <tr>\n",
       "      <th>0</th>\n",
       "      <td>1</td>\n",
       "      <td>0</td>\n",
       "      <td>3</td>\n",
       "      <td>Braund, Mr. Owen Harris</td>\n",
       "      <td>male</td>\n",
       "      <td>22.0</td>\n",
       "      <td>1</td>\n",
       "      <td>0</td>\n",
       "      <td>A/5 21171</td>\n",
       "      <td>7.2500</td>\n",
       "      <td>NaN</td>\n",
       "      <td>S</td>\n",
       "    </tr>\n",
       "    <tr>\n",
       "      <th>1</th>\n",
       "      <td>2</td>\n",
       "      <td>1</td>\n",
       "      <td>1</td>\n",
       "      <td>Cumings, Mrs. John Bradley (Florence Briggs Th...</td>\n",
       "      <td>female</td>\n",
       "      <td>38.0</td>\n",
       "      <td>1</td>\n",
       "      <td>0</td>\n",
       "      <td>PC 17599</td>\n",
       "      <td>71.2833</td>\n",
       "      <td>C85</td>\n",
       "      <td>C</td>\n",
       "    </tr>\n",
       "    <tr>\n",
       "      <th>2</th>\n",
       "      <td>3</td>\n",
       "      <td>1</td>\n",
       "      <td>3</td>\n",
       "      <td>Heikkinen, Miss. Laina</td>\n",
       "      <td>female</td>\n",
       "      <td>26.0</td>\n",
       "      <td>0</td>\n",
       "      <td>0</td>\n",
       "      <td>STON/O2. 3101282</td>\n",
       "      <td>7.9250</td>\n",
       "      <td>NaN</td>\n",
       "      <td>S</td>\n",
       "    </tr>\n",
       "    <tr>\n",
       "      <th>3</th>\n",
       "      <td>4</td>\n",
       "      <td>1</td>\n",
       "      <td>1</td>\n",
       "      <td>Futrelle, Mrs. Jacques Heath (Lily May Peel)</td>\n",
       "      <td>female</td>\n",
       "      <td>35.0</td>\n",
       "      <td>1</td>\n",
       "      <td>0</td>\n",
       "      <td>113803</td>\n",
       "      <td>53.1000</td>\n",
       "      <td>C123</td>\n",
       "      <td>S</td>\n",
       "    </tr>\n",
       "    <tr>\n",
       "      <th>4</th>\n",
       "      <td>5</td>\n",
       "      <td>0</td>\n",
       "      <td>3</td>\n",
       "      <td>Allen, Mr. William Henry</td>\n",
       "      <td>male</td>\n",
       "      <td>35.0</td>\n",
       "      <td>0</td>\n",
       "      <td>0</td>\n",
       "      <td>373450</td>\n",
       "      <td>8.0500</td>\n",
       "      <td>NaN</td>\n",
       "      <td>S</td>\n",
       "    </tr>\n",
       "    <tr>\n",
       "      <th>...</th>\n",
       "      <td>...</td>\n",
       "      <td>...</td>\n",
       "      <td>...</td>\n",
       "      <td>...</td>\n",
       "      <td>...</td>\n",
       "      <td>...</td>\n",
       "      <td>...</td>\n",
       "      <td>...</td>\n",
       "      <td>...</td>\n",
       "      <td>...</td>\n",
       "      <td>...</td>\n",
       "      <td>...</td>\n",
       "    </tr>\n",
       "    <tr>\n",
       "      <th>886</th>\n",
       "      <td>887</td>\n",
       "      <td>0</td>\n",
       "      <td>2</td>\n",
       "      <td>Montvila, Rev. Juozas</td>\n",
       "      <td>male</td>\n",
       "      <td>27.0</td>\n",
       "      <td>0</td>\n",
       "      <td>0</td>\n",
       "      <td>211536</td>\n",
       "      <td>13.0000</td>\n",
       "      <td>NaN</td>\n",
       "      <td>S</td>\n",
       "    </tr>\n",
       "    <tr>\n",
       "      <th>887</th>\n",
       "      <td>888</td>\n",
       "      <td>1</td>\n",
       "      <td>1</td>\n",
       "      <td>Graham, Miss. Margaret Edith</td>\n",
       "      <td>female</td>\n",
       "      <td>19.0</td>\n",
       "      <td>0</td>\n",
       "      <td>0</td>\n",
       "      <td>112053</td>\n",
       "      <td>30.0000</td>\n",
       "      <td>B42</td>\n",
       "      <td>S</td>\n",
       "    </tr>\n",
       "    <tr>\n",
       "      <th>888</th>\n",
       "      <td>889</td>\n",
       "      <td>0</td>\n",
       "      <td>3</td>\n",
       "      <td>Johnston, Miss. Catherine Helen \"Carrie\"</td>\n",
       "      <td>female</td>\n",
       "      <td>NaN</td>\n",
       "      <td>1</td>\n",
       "      <td>2</td>\n",
       "      <td>W./C. 6607</td>\n",
       "      <td>23.4500</td>\n",
       "      <td>NaN</td>\n",
       "      <td>S</td>\n",
       "    </tr>\n",
       "    <tr>\n",
       "      <th>889</th>\n",
       "      <td>890</td>\n",
       "      <td>1</td>\n",
       "      <td>1</td>\n",
       "      <td>Behr, Mr. Karl Howell</td>\n",
       "      <td>male</td>\n",
       "      <td>26.0</td>\n",
       "      <td>0</td>\n",
       "      <td>0</td>\n",
       "      <td>111369</td>\n",
       "      <td>30.0000</td>\n",
       "      <td>C148</td>\n",
       "      <td>C</td>\n",
       "    </tr>\n",
       "    <tr>\n",
       "      <th>890</th>\n",
       "      <td>891</td>\n",
       "      <td>0</td>\n",
       "      <td>3</td>\n",
       "      <td>Dooley, Mr. Patrick</td>\n",
       "      <td>male</td>\n",
       "      <td>32.0</td>\n",
       "      <td>0</td>\n",
       "      <td>0</td>\n",
       "      <td>370376</td>\n",
       "      <td>7.7500</td>\n",
       "      <td>NaN</td>\n",
       "      <td>Q</td>\n",
       "    </tr>\n",
       "  </tbody>\n",
       "</table>\n",
       "<p>891 rows × 12 columns</p>\n",
       "</div>"
      ],
      "text/plain": [
       "     PassengerId  Survived  Pclass  \\\n",
       "0              1         0       3   \n",
       "1              2         1       1   \n",
       "2              3         1       3   \n",
       "3              4         1       1   \n",
       "4              5         0       3   \n",
       "..           ...       ...     ...   \n",
       "886          887         0       2   \n",
       "887          888         1       1   \n",
       "888          889         0       3   \n",
       "889          890         1       1   \n",
       "890          891         0       3   \n",
       "\n",
       "                                                  Name     Sex   Age  SibSp  \\\n",
       "0                              Braund, Mr. Owen Harris    male  22.0      1   \n",
       "1    Cumings, Mrs. John Bradley (Florence Briggs Th...  female  38.0      1   \n",
       "2                               Heikkinen, Miss. Laina  female  26.0      0   \n",
       "3         Futrelle, Mrs. Jacques Heath (Lily May Peel)  female  35.0      1   \n",
       "4                             Allen, Mr. William Henry    male  35.0      0   \n",
       "..                                                 ...     ...   ...    ...   \n",
       "886                              Montvila, Rev. Juozas    male  27.0      0   \n",
       "887                       Graham, Miss. Margaret Edith  female  19.0      0   \n",
       "888           Johnston, Miss. Catherine Helen \"Carrie\"  female   NaN      1   \n",
       "889                              Behr, Mr. Karl Howell    male  26.0      0   \n",
       "890                                Dooley, Mr. Patrick    male  32.0      0   \n",
       "\n",
       "     Parch            Ticket     Fare Cabin Embarked  \n",
       "0        0         A/5 21171   7.2500   NaN        S  \n",
       "1        0          PC 17599  71.2833   C85        C  \n",
       "2        0  STON/O2. 3101282   7.9250   NaN        S  \n",
       "3        0            113803  53.1000  C123        S  \n",
       "4        0            373450   8.0500   NaN        S  \n",
       "..     ...               ...      ...   ...      ...  \n",
       "886      0            211536  13.0000   NaN        S  \n",
       "887      0            112053  30.0000   B42        S  \n",
       "888      2        W./C. 6607  23.4500   NaN        S  \n",
       "889      0            111369  30.0000  C148        C  \n",
       "890      0            370376   7.7500   NaN        Q  \n",
       "\n",
       "[891 rows x 12 columns]"
      ]
     },
     "execution_count": 3,
     "metadata": {},
     "output_type": "execute_result"
    }
   ],
   "source": [
    "train = pd.read_csv('train.csv')\n",
    "df_train = pd.DataFrame(train)\n",
    "df_train"
   ]
  },
  {
   "cell_type": "code",
   "execution_count": 4,
   "id": "2fb9505a",
   "metadata": {
    "scrolled": true
   },
   "outputs": [
    {
     "data": {
      "text/html": [
       "<div>\n",
       "<style scoped>\n",
       "    .dataframe tbody tr th:only-of-type {\n",
       "        vertical-align: middle;\n",
       "    }\n",
       "\n",
       "    .dataframe tbody tr th {\n",
       "        vertical-align: top;\n",
       "    }\n",
       "\n",
       "    .dataframe thead th {\n",
       "        text-align: right;\n",
       "    }\n",
       "</style>\n",
       "<table border=\"1\" class=\"dataframe\">\n",
       "  <thead>\n",
       "    <tr style=\"text-align: right;\">\n",
       "      <th></th>\n",
       "      <th>PassengerId</th>\n",
       "      <th>Pclass</th>\n",
       "      <th>Name</th>\n",
       "      <th>Sex</th>\n",
       "      <th>Age</th>\n",
       "      <th>SibSp</th>\n",
       "      <th>Parch</th>\n",
       "      <th>Ticket</th>\n",
       "      <th>Fare</th>\n",
       "      <th>Cabin</th>\n",
       "      <th>Embarked</th>\n",
       "    </tr>\n",
       "  </thead>\n",
       "  <tbody>\n",
       "    <tr>\n",
       "      <th>0</th>\n",
       "      <td>892</td>\n",
       "      <td>3</td>\n",
       "      <td>Kelly, Mr. James</td>\n",
       "      <td>male</td>\n",
       "      <td>34.5</td>\n",
       "      <td>0</td>\n",
       "      <td>0</td>\n",
       "      <td>330911</td>\n",
       "      <td>7.8292</td>\n",
       "      <td>NaN</td>\n",
       "      <td>Q</td>\n",
       "    </tr>\n",
       "    <tr>\n",
       "      <th>1</th>\n",
       "      <td>893</td>\n",
       "      <td>3</td>\n",
       "      <td>Wilkes, Mrs. James (Ellen Needs)</td>\n",
       "      <td>female</td>\n",
       "      <td>47.0</td>\n",
       "      <td>1</td>\n",
       "      <td>0</td>\n",
       "      <td>363272</td>\n",
       "      <td>7.0000</td>\n",
       "      <td>NaN</td>\n",
       "      <td>S</td>\n",
       "    </tr>\n",
       "    <tr>\n",
       "      <th>2</th>\n",
       "      <td>894</td>\n",
       "      <td>2</td>\n",
       "      <td>Myles, Mr. Thomas Francis</td>\n",
       "      <td>male</td>\n",
       "      <td>62.0</td>\n",
       "      <td>0</td>\n",
       "      <td>0</td>\n",
       "      <td>240276</td>\n",
       "      <td>9.6875</td>\n",
       "      <td>NaN</td>\n",
       "      <td>Q</td>\n",
       "    </tr>\n",
       "    <tr>\n",
       "      <th>3</th>\n",
       "      <td>895</td>\n",
       "      <td>3</td>\n",
       "      <td>Wirz, Mr. Albert</td>\n",
       "      <td>male</td>\n",
       "      <td>27.0</td>\n",
       "      <td>0</td>\n",
       "      <td>0</td>\n",
       "      <td>315154</td>\n",
       "      <td>8.6625</td>\n",
       "      <td>NaN</td>\n",
       "      <td>S</td>\n",
       "    </tr>\n",
       "    <tr>\n",
       "      <th>4</th>\n",
       "      <td>896</td>\n",
       "      <td>3</td>\n",
       "      <td>Hirvonen, Mrs. Alexander (Helga E Lindqvist)</td>\n",
       "      <td>female</td>\n",
       "      <td>22.0</td>\n",
       "      <td>1</td>\n",
       "      <td>1</td>\n",
       "      <td>3101298</td>\n",
       "      <td>12.2875</td>\n",
       "      <td>NaN</td>\n",
       "      <td>S</td>\n",
       "    </tr>\n",
       "    <tr>\n",
       "      <th>...</th>\n",
       "      <td>...</td>\n",
       "      <td>...</td>\n",
       "      <td>...</td>\n",
       "      <td>...</td>\n",
       "      <td>...</td>\n",
       "      <td>...</td>\n",
       "      <td>...</td>\n",
       "      <td>...</td>\n",
       "      <td>...</td>\n",
       "      <td>...</td>\n",
       "      <td>...</td>\n",
       "    </tr>\n",
       "    <tr>\n",
       "      <th>413</th>\n",
       "      <td>1305</td>\n",
       "      <td>3</td>\n",
       "      <td>Spector, Mr. Woolf</td>\n",
       "      <td>male</td>\n",
       "      <td>NaN</td>\n",
       "      <td>0</td>\n",
       "      <td>0</td>\n",
       "      <td>A.5. 3236</td>\n",
       "      <td>8.0500</td>\n",
       "      <td>NaN</td>\n",
       "      <td>S</td>\n",
       "    </tr>\n",
       "    <tr>\n",
       "      <th>414</th>\n",
       "      <td>1306</td>\n",
       "      <td>1</td>\n",
       "      <td>Oliva y Ocana, Dona. Fermina</td>\n",
       "      <td>female</td>\n",
       "      <td>39.0</td>\n",
       "      <td>0</td>\n",
       "      <td>0</td>\n",
       "      <td>PC 17758</td>\n",
       "      <td>108.9000</td>\n",
       "      <td>C105</td>\n",
       "      <td>C</td>\n",
       "    </tr>\n",
       "    <tr>\n",
       "      <th>415</th>\n",
       "      <td>1307</td>\n",
       "      <td>3</td>\n",
       "      <td>Saether, Mr. Simon Sivertsen</td>\n",
       "      <td>male</td>\n",
       "      <td>38.5</td>\n",
       "      <td>0</td>\n",
       "      <td>0</td>\n",
       "      <td>SOTON/O.Q. 3101262</td>\n",
       "      <td>7.2500</td>\n",
       "      <td>NaN</td>\n",
       "      <td>S</td>\n",
       "    </tr>\n",
       "    <tr>\n",
       "      <th>416</th>\n",
       "      <td>1308</td>\n",
       "      <td>3</td>\n",
       "      <td>Ware, Mr. Frederick</td>\n",
       "      <td>male</td>\n",
       "      <td>NaN</td>\n",
       "      <td>0</td>\n",
       "      <td>0</td>\n",
       "      <td>359309</td>\n",
       "      <td>8.0500</td>\n",
       "      <td>NaN</td>\n",
       "      <td>S</td>\n",
       "    </tr>\n",
       "    <tr>\n",
       "      <th>417</th>\n",
       "      <td>1309</td>\n",
       "      <td>3</td>\n",
       "      <td>Peter, Master. Michael J</td>\n",
       "      <td>male</td>\n",
       "      <td>NaN</td>\n",
       "      <td>1</td>\n",
       "      <td>1</td>\n",
       "      <td>2668</td>\n",
       "      <td>22.3583</td>\n",
       "      <td>NaN</td>\n",
       "      <td>C</td>\n",
       "    </tr>\n",
       "  </tbody>\n",
       "</table>\n",
       "<p>418 rows × 11 columns</p>\n",
       "</div>"
      ],
      "text/plain": [
       "     PassengerId  Pclass                                          Name  \\\n",
       "0            892       3                              Kelly, Mr. James   \n",
       "1            893       3              Wilkes, Mrs. James (Ellen Needs)   \n",
       "2            894       2                     Myles, Mr. Thomas Francis   \n",
       "3            895       3                              Wirz, Mr. Albert   \n",
       "4            896       3  Hirvonen, Mrs. Alexander (Helga E Lindqvist)   \n",
       "..           ...     ...                                           ...   \n",
       "413         1305       3                            Spector, Mr. Woolf   \n",
       "414         1306       1                  Oliva y Ocana, Dona. Fermina   \n",
       "415         1307       3                  Saether, Mr. Simon Sivertsen   \n",
       "416         1308       3                           Ware, Mr. Frederick   \n",
       "417         1309       3                      Peter, Master. Michael J   \n",
       "\n",
       "        Sex   Age  SibSp  Parch              Ticket      Fare Cabin Embarked  \n",
       "0      male  34.5      0      0              330911    7.8292   NaN        Q  \n",
       "1    female  47.0      1      0              363272    7.0000   NaN        S  \n",
       "2      male  62.0      0      0              240276    9.6875   NaN        Q  \n",
       "3      male  27.0      0      0              315154    8.6625   NaN        S  \n",
       "4    female  22.0      1      1             3101298   12.2875   NaN        S  \n",
       "..      ...   ...    ...    ...                 ...       ...   ...      ...  \n",
       "413    male   NaN      0      0           A.5. 3236    8.0500   NaN        S  \n",
       "414  female  39.0      0      0            PC 17758  108.9000  C105        C  \n",
       "415    male  38.5      0      0  SOTON/O.Q. 3101262    7.2500   NaN        S  \n",
       "416    male   NaN      0      0              359309    8.0500   NaN        S  \n",
       "417    male   NaN      1      1                2668   22.3583   NaN        C  \n",
       "\n",
       "[418 rows x 11 columns]"
      ]
     },
     "execution_count": 4,
     "metadata": {},
     "output_type": "execute_result"
    }
   ],
   "source": [
    "test = pd.read_csv('test.csv')\n",
    "df_test = pd.DataFrame(test)\n",
    "df_test"
   ]
  },
  {
   "cell_type": "markdown",
   "id": "f01b7851",
   "metadata": {},
   "source": [
    "At first glance you can see that those two files are more or less the same, with two exepctions though: test file is  more than two times smaller and there is no 'Survival' column there. Test file will be very useful to fill missing data (I will then combine these two files for this)\n",
    "\n",
    "pandas_profiling is an usefull library 'which automatically generates a standardized univariate and multivariate report for data understanding'. It is a clear and easy way to view the data info."
   ]
  },
  {
   "cell_type": "markdown",
   "id": "89b4157f",
   "metadata": {},
   "source": [
    "## Feature analysis or Exploratory Data Analysis"
   ]
  },
  {
   "cell_type": "markdown",
   "id": "131d41c4",
   "metadata": {},
   "source": [
    "however lovely pandas_profiling is, there are to many eggs in one basket. So to keep it simple for the purpose of my project I will break it down into smaller pieces. I believe it will help me to digg little more deeper into understanding of data."
   ]
  },
  {
   "cell_type": "code",
   "execution_count": 5,
   "id": "8b8bf862",
   "metadata": {
    "scrolled": false
   },
   "outputs": [
    {
     "name": "stdout",
     "output_type": "stream",
     "text": [
      "<class 'pandas.core.frame.DataFrame'>\n",
      "RangeIndex: 891 entries, 0 to 890\n",
      "Data columns (total 12 columns):\n",
      " #   Column       Non-Null Count  Dtype  \n",
      "---  ------       --------------  -----  \n",
      " 0   PassengerId  891 non-null    int64  \n",
      " 1   Survived     891 non-null    int64  \n",
      " 2   Pclass       891 non-null    int64  \n",
      " 3   Name         891 non-null    object \n",
      " 4   Sex          891 non-null    object \n",
      " 5   Age          714 non-null    float64\n",
      " 6   SibSp        891 non-null    int64  \n",
      " 7   Parch        891 non-null    int64  \n",
      " 8   Ticket       891 non-null    object \n",
      " 9   Fare         891 non-null    float64\n",
      " 10  Cabin        204 non-null    object \n",
      " 11  Embarked     889 non-null    object \n",
      "dtypes: float64(2), int64(5), object(5)\n",
      "memory usage: 83.7+ KB\n"
     ]
    }
   ],
   "source": [
    "df_train.info()"
   ]
  },
  {
   "cell_type": "markdown",
   "id": "57c6b9bf",
   "metadata": {},
   "source": [
    "so we deal with 12 columns and 891 rows. In case of data types there are 5 integer, 5 object and two float columns"
   ]
  },
  {
   "cell_type": "code",
   "execution_count": 6,
   "id": "620df5ef",
   "metadata": {},
   "outputs": [
    {
     "data": {
      "image/png": "[encoded data removed]",
      "text/plain": [
       "<Figure size 1800x720 with 2 Axes>"
      ]
     },
     "metadata": {
      "needs_background": "light"
     },
     "output_type": "display_data"
    }
   ],
   "source": [
    "missing_data = msno.matrix(df_train.sample(500))"
   ]
  },
  {
   "cell_type": "markdown",
   "id": "e12cdfba",
   "metadata": {},
   "source": [
    "I don not think 'Cabin' column will be useful, according to pandas_profiling 77.1% is missing. In 'Age' column there is 19.9% missing but later, as I mentioned before, I can help myself and use the test + train files to refill missing age data --> but I will not use mean(), just wait and see:)"
   ]
  },
  {
   "cell_type": "markdown",
   "id": "a072c564",
   "metadata": {},
   "source": [
    "This can help better understand the variable names:\n",
    "\n",
    "- survival:\tSurvival\t0 = No, 1 = Yes\n",
    "- pclass:\tTicket class\t1 = 1st, 2 = 2nd, 3 = 3rd\n",
    "- sex: \tSex\t\n",
    "- Age: \tAge in years\t\n",
    "- sibsp:\t# of siblings / spouses aboard the Titanic\t\n",
    "- parch:\t# of parents / children aboard the Titanic\t\n",
    "- ticket:\tTicket number\t\n",
    "- fare:\tPassenger fare\t\n",
    "- cabin:\tCabin number\t\n",
    "- embarked:\tPort of Embarkation\tC = Cherbourg, Q = Queenstown, S = Southampton\n",
    "\n",
    "source: https://www.kaggle.com/c/titanic/data"
   ]
  },
  {
   "cell_type": "markdown",
   "id": "962e6ee7",
   "metadata": {},
   "source": [
    "### correlation"
   ]
  },
  {
   "cell_type": "code",
   "execution_count": 7,
   "id": "8ed067c3",
   "metadata": {
    "scrolled": true
   },
   "outputs": [
    {
     "data": {
      "image/png": "[encoded data removed]",
      "text/plain": [
       "<Figure size 720x576 with 2 Axes>"
      ]
     },
     "metadata": {
      "needs_background": "light"
     },
     "output_type": "display_data"
    }
   ],
   "source": [
    "sns.heatmap(df_train.corr(),annot=True,cmap='RdYlGn',linewidths=0.2)\n",
    "fig=plt.gcf()\n",
    "fig.set_size_inches(10,8)\n",
    "plt.show()"
   ]
  },
  {
   "cell_type": "markdown",
   "id": "5364c98a",
   "metadata": {},
   "source": [
    "this is a place where all fun starts:) \n",
    "I is correlation between the features. What can I see here :\n",
    "- biggest (negative) is between Pclass and Fare - understandable, I guess (usually) more we pay, in higher class we travel (-0.55)\n",
    "- SibSp and Parch - let us call it family connections (0.41)\n",
    "- Age and Pclass - again -> usually the older someone is, the more funds they have accumulated (-0.37)\n",
    "and so on\n",
    "\n",
    "but for the purpose of this task correlation to one specific column is quite important"
   ]
  },
  {
   "cell_type": "code",
   "execution_count": 8,
   "id": "d4a14874",
   "metadata": {},
   "outputs": [
    {
     "data": {
      "text/html": [
       "<div>\n",
       "<style scoped>\n",
       "    .dataframe tbody tr th:only-of-type {\n",
       "        vertical-align: middle;\n",
       "    }\n",
       "\n",
       "    .dataframe tbody tr th {\n",
       "        vertical-align: top;\n",
       "    }\n",
       "\n",
       "    .dataframe thead th {\n",
       "        text-align: right;\n",
       "    }\n",
       "</style>\n",
       "<table border=\"1\" class=\"dataframe\">\n",
       "  <thead>\n",
       "    <tr style=\"text-align: right;\">\n",
       "      <th></th>\n",
       "      <th>main_col</th>\n",
       "      <th>col_name</th>\n",
       "      <th>correlation</th>\n",
       "    </tr>\n",
       "  </thead>\n",
       "  <tbody>\n",
       "    <tr>\n",
       "      <th>10</th>\n",
       "      <td>Survived</td>\n",
       "      <td>Fare</td>\n",
       "      <td>0.257307</td>\n",
       "    </tr>\n",
       "    <tr>\n",
       "      <th>20</th>\n",
       "      <td>Survived</td>\n",
       "      <td>Parch</td>\n",
       "      <td>0.081629</td>\n",
       "    </tr>\n",
       "    <tr>\n",
       "      <th>29</th>\n",
       "      <td>Survived</td>\n",
       "      <td>PassengerId</td>\n",
       "      <td>-0.005007</td>\n",
       "    </tr>\n",
       "    <tr>\n",
       "      <th>34</th>\n",
       "      <td>Survived</td>\n",
       "      <td>SibSp</td>\n",
       "      <td>-0.035322</td>\n",
       "    </tr>\n",
       "    <tr>\n",
       "      <th>38</th>\n",
       "      <td>Survived</td>\n",
       "      <td>Age</td>\n",
       "      <td>-0.077221</td>\n",
       "    </tr>\n",
       "    <tr>\n",
       "      <th>44</th>\n",
       "      <td>Survived</td>\n",
       "      <td>Pclass</td>\n",
       "      <td>-0.338481</td>\n",
       "    </tr>\n",
       "  </tbody>\n",
       "</table>\n",
       "</div>"
      ],
      "text/plain": [
       "    main_col     col_name  correlation\n",
       "10  Survived         Fare     0.257307\n",
       "20  Survived        Parch     0.081629\n",
       "29  Survived  PassengerId    -0.005007\n",
       "34  Survived        SibSp    -0.035322\n",
       "38  Survived          Age    -0.077221\n",
       "44  Survived       Pclass    -0.338481"
      ]
     },
     "execution_count": 8,
     "metadata": {},
     "output_type": "execute_result"
    }
   ],
   "source": [
    "surv_col_corr = df_train.corr().unstack().sort_values(ascending=False) \n",
    "surv_col_corr = pd.DataFrame(surv_col_corr).reset_index()\n",
    "surv_col_corr.columns = ['main_col', 'col_name', 'correlation']\n",
    "surv_col_corr.query(\"main_col == 'Survived' & col_name != 'Survived'\") "
   ]
  },
  {
   "cell_type": "markdown",
   "id": "e4c2c84f",
   "metadata": {},
   "source": [
    "It is important to note that: correlation does not equal causation. Correlations tell us that there is a relationship between variables, but this does not necessarily mean that one variable causes the other to change.\n",
    "There is not strong correlation here, nevertheless two columns: 'Fare' and 'Pclass' are 'connected' with 'Survived'\n",
    "It is time to dig little bit more into data"
   ]
  },
  {
   "cell_type": "markdown",
   "id": "d022be3f",
   "metadata": {},
   "source": [
    "### Fare"
   ]
  },
  {
   "cell_type": "code",
   "execution_count": 9,
   "id": "8d8cb8a8",
   "metadata": {},
   "outputs": [
    {
     "data": {
      "image/png": "[encoded data removed]",
      "text/plain": [
       "<Figure size 1152x216 with 1 Axes>"
      ]
     },
     "metadata": {
      "needs_background": "light"
     },
     "output_type": "display_data"
    },
    {
     "data": {
      "image/png": "[encoded data removed]",
      "text/plain": [
       "<Figure size 1152x216 with 1 Axes>"
      ]
     },
     "metadata": {
      "needs_background": "light"
     },
     "output_type": "display_data"
    },
    {
     "name": "stdout",
     "output_type": "stream",
     "text": [
      "average_Fare_0 =  22.12\n",
      "average_Fare_1 =  48.4\n"
     ]
    }
   ],
   "source": [
    "Fare_0 = []\n",
    "Fare_1 = []\n",
    "for i in range(0,891):\n",
    "    if df_train[\"Survived\"][i] == 0:\n",
    "        Fare_0.append(df_train[\"Fare\"][i])\n",
    "    else:\n",
    "        Fare_1.append(df_train[\"Fare\"][i])\n",
    "        \n",
    "f, axes = plt.subplots(1,1, figsize = (16, 3))\n",
    "fare_0_info = sns.histplot(Fare_0, color=\"red\",ax = axes)\n",
    "plt.title(\"Fare distribution for the people (549) who did not survive\")\n",
    "\n",
    "f, axes = plt.subplots(1,1, figsize = (16, 3))\n",
    "fare_1_info = sns.histplot(Fare_1, color=\"green\",ax = axes)\n",
    "plt.title(\"Fare distribution for the people (342) who survived\")\n",
    "\n",
    "plt.show()\n",
    "average_Fare_0 = round(sum(Fare_0)/len(Fare_0),2)\n",
    "average_Fare_1 = round(sum(Fare_1)/len(Fare_1),2)\n",
    "print('average_Fare_0 = ', average_Fare_0)\n",
    "print('average_Fare_1 = ', average_Fare_1)"
   ]
  },
  {
   "cell_type": "markdown",
   "id": "3e287cce",
   "metadata": {},
   "source": [
    "It is good to know (next time): you pay more there is a slightly greater chance of surviving :)))"
   ]
  },
  {
   "cell_type": "markdown",
   "id": "b1cfde70",
   "metadata": {},
   "source": [
    "### Sex"
   ]
  },
  {
   "cell_type": "code",
   "execution_count": 10,
   "id": "29c706fb",
   "metadata": {},
   "outputs": [
    {
     "data": {
      "image/png": "[encoded data removed]",
      "text/plain": [
       "<Figure size 432x288 with 1 Axes>"
      ]
     },
     "metadata": {
      "needs_background": "light"
     },
     "output_type": "display_data"
    }
   ],
   "source": [
    "sex_survived_info = sns.barplot(x=\"Sex\",y=\"Survived\",data=df_train, palette='rainbow')\n",
    "sex_survived_info = sex_survived_info.set_ylabel(\"Survival Probability\")"
   ]
  },
  {
   "cell_type": "code",
   "execution_count": 11,
   "id": "d43efc83",
   "metadata": {},
   "outputs": [
    {
     "data": {
      "text/plain": [
       "<AxesSubplot:xlabel='Sex', ylabel='count'>"
      ]
     },
     "execution_count": 11,
     "metadata": {},
     "output_type": "execute_result"
    },
    {
     "data": {
      "image/png": "[encoded data removed]",
      "text/plain": [
       "<Figure size 576x360 with 1 Axes>"
      ]
     },
     "metadata": {
      "needs_background": "light"
     },
     "output_type": "display_data"
    }
   ],
   "source": [
    "plt.figure(figsize=(8, 5))\n",
    "sns.set_style('whitegrid')\n",
    "sns.countplot(x = 'Sex',hue='Survived',data=df_train,palette='rainbow')"
   ]
  },
  {
   "cell_type": "markdown",
   "id": "a241afbd",
   "metadata": {},
   "source": [
    "The movie was right, I can see it clearly here: women (and children) first to the lifeboat"
   ]
  },
  {
   "cell_type": "markdown",
   "id": "94713d33",
   "metadata": {},
   "source": [
    "### Age"
   ]
  },
  {
   "cell_type": "code",
   "execution_count": 12,
   "id": "3d750117",
   "metadata": {},
   "outputs": [
    {
     "data": {
      "image/png": "[encoded data removed]",
      "text/plain": [
       "<Figure size 432x288 with 1 Axes>"
      ]
     },
     "metadata": {},
     "output_type": "display_data"
    }
   ],
   "source": [
    "age_info = sns.kdeplot(df_train[\"Age\"][(df_train[\"Survived\"] == 0)], color=\"Pink\", shade = True)\n",
    "age_info = sns.kdeplot(df_train[\"Age\"][(df_train[\"Survived\"] == 1) ], ax =age_info, color=\"Green\", shade= True)\n",
    "age_info.set_xlabel(\"Age\")\n",
    "age_info.set_ylabel(\"Frequency\")\n",
    "age_info = age_info.legend([\"Not Survived\",\"Survived\"])"
   ]
  },
  {
   "cell_type": "markdown",
   "id": "8649976f",
   "metadata": {},
   "source": [
    ":( sadly, not all children had the opportunity to board a lifeboat\n",
    "There are 3 or 4 places where the graphs do not match:\n",
    "- more children survived\n",
    "- more people between 19-30 did not\n",
    "- more people after 60 died, but more people around 80 did survive (it is really small difference on this graph so I think this group size is small and probably not that important) \n",
    "As I metioned before there is some missing data in 'Age' column, hence there are some negative values on x axis -> I am not sure about that, but that would be my first guess"
   ]
  },
  {
   "cell_type": "markdown",
   "id": "5d8db08b",
   "metadata": {},
   "source": [
    "### Pclass"
   ]
  },
  {
   "cell_type": "code",
   "execution_count": 13,
   "id": "bf35839f",
   "metadata": {},
   "outputs": [
    {
     "data": {
      "text/html": [
       "<style type=\"text/css\">\n",
       "#T_af70d_row0_col0, #T_af70d_row1_col1, #T_af70d_row1_col2 {\n",
       "  background-color: #ffff66;\n",
       "  color: #000000;\n",
       "}\n",
       "#T_af70d_row0_col1 {\n",
       "  background-color: #cee666;\n",
       "  color: #000000;\n",
       "}\n",
       "#T_af70d_row0_col2 {\n",
       "  background-color: #f4fa66;\n",
       "  color: #000000;\n",
       "}\n",
       "#T_af70d_row1_col0 {\n",
       "  background-color: #f6fa66;\n",
       "  color: #000000;\n",
       "}\n",
       "#T_af70d_row2_col0 {\n",
       "  background-color: #60b066;\n",
       "  color: #f1f1f1;\n",
       "}\n",
       "#T_af70d_row2_col1 {\n",
       "  background-color: #dfef66;\n",
       "  color: #000000;\n",
       "}\n",
       "#T_af70d_row2_col2 {\n",
       "  background-color: #90c866;\n",
       "  color: #000000;\n",
       "}\n",
       "#T_af70d_row3_col0, #T_af70d_row3_col1, #T_af70d_row3_col2 {\n",
       "  background-color: #008066;\n",
       "  color: #f1f1f1;\n",
       "}\n",
       "</style>\n",
       "<table id=\"T_af70d\">\n",
       "  <thead>\n",
       "    <tr>\n",
       "      <th class=\"index_name level0\" >Survived</th>\n",
       "      <th id=\"T_af70d_level0_col0\" class=\"col_heading level0 col0\" >0</th>\n",
       "      <th id=\"T_af70d_level0_col1\" class=\"col_heading level0 col1\" >1</th>\n",
       "      <th id=\"T_af70d_level0_col2\" class=\"col_heading level0 col2\" >All</th>\n",
       "    </tr>\n",
       "    <tr>\n",
       "      <th class=\"index_name level0\" >Pclass</th>\n",
       "      <th class=\"blank col0\" >&nbsp;</th>\n",
       "      <th class=\"blank col1\" >&nbsp;</th>\n",
       "      <th class=\"blank col2\" >&nbsp;</th>\n",
       "    </tr>\n",
       "  </thead>\n",
       "  <tbody>\n",
       "    <tr>\n",
       "      <th id=\"T_af70d_level0_row0\" class=\"row_heading level0 row0\" >1</th>\n",
       "      <td id=\"T_af70d_row0_col0\" class=\"data row0 col0\" >80</td>\n",
       "      <td id=\"T_af70d_row0_col1\" class=\"data row0 col1\" >136</td>\n",
       "      <td id=\"T_af70d_row0_col2\" class=\"data row0 col2\" >216</td>\n",
       "    </tr>\n",
       "    <tr>\n",
       "      <th id=\"T_af70d_level0_row1\" class=\"row_heading level0 row1\" >2</th>\n",
       "      <td id=\"T_af70d_row1_col0\" class=\"data row1 col0\" >97</td>\n",
       "      <td id=\"T_af70d_row1_col1\" class=\"data row1 col1\" >87</td>\n",
       "      <td id=\"T_af70d_row1_col2\" class=\"data row1 col2\" >184</td>\n",
       "    </tr>\n",
       "    <tr>\n",
       "      <th id=\"T_af70d_level0_row2\" class=\"row_heading level0 row2\" >3</th>\n",
       "      <td id=\"T_af70d_row2_col0\" class=\"data row2 col0\" >372</td>\n",
       "      <td id=\"T_af70d_row2_col1\" class=\"data row2 col1\" >119</td>\n",
       "      <td id=\"T_af70d_row2_col2\" class=\"data row2 col2\" >491</td>\n",
       "    </tr>\n",
       "    <tr>\n",
       "      <th id=\"T_af70d_level0_row3\" class=\"row_heading level0 row3\" >All</th>\n",
       "      <td id=\"T_af70d_row3_col0\" class=\"data row3 col0\" >549</td>\n",
       "      <td id=\"T_af70d_row3_col1\" class=\"data row3 col1\" >342</td>\n",
       "      <td id=\"T_af70d_row3_col2\" class=\"data row3 col2\" >891</td>\n",
       "    </tr>\n",
       "  </tbody>\n",
       "</table>\n"
      ],
      "text/plain": [
       "<pandas.io.formats.style.Styler at 0x12fa52190>"
      ]
     },
     "execution_count": 13,
     "metadata": {},
     "output_type": "execute_result"
    }
   ],
   "source": [
    "pd.crosstab(df_train.Pclass,df_train.Survived,margins=True).style.background_gradient(cmap='summer_r')"
   ]
  },
  {
   "cell_type": "code",
   "execution_count": 14,
   "id": "0fc9f452",
   "metadata": {},
   "outputs": [
    {
     "data": {
      "image/png": "[encoded data removed]",
      "text/plain": [
       "<Figure size 432x288 with 1 Axes>"
      ]
     },
     "metadata": {},
     "output_type": "display_data"
    }
   ],
   "source": [
    "pclass_info = sns.barplot(x=\"Pclass\",y=\"Survived\",data=df_train, palette='rainbow')\n",
    "pclass_info = pclass_info.set_ylabel(\"Survival Probability\")"
   ]
  },
  {
   "cell_type": "markdown",
   "id": "0464acb9",
   "metadata": {},
   "source": [
    "hmmm.. who would suspect that:))))"
   ]
  },
  {
   "cell_type": "code",
   "execution_count": 15,
   "id": "1c214301",
   "metadata": {
    "scrolled": true
   },
   "outputs": [
    {
     "data": {
      "text/plain": [
       "Text(0, 0.5, 'Density')"
      ]
     },
     "execution_count": 15,
     "metadata": {},
     "output_type": "execute_result"
    },
    {
     "data": {
      "image/png": "[encoded data removed]",
      "text/plain": [
       "<Figure size 1152x360 with 1 Axes>"
      ]
     },
     "metadata": {},
     "output_type": "display_data"
    }
   ],
   "source": [
    "plt.figure(figsize=(16, 5))\n",
    "for x in [1,2,3]:    ## for 3 classes\n",
    "    sns.kdeplot(data=df_train.Age[df_train.Pclass == x],cut = 0, clip=(0,200)).grid(False)\n",
    "    \n",
    "plt.title(\"Age vs Pclass\")\n",
    "plt.legend((\"1 class\",\"2 class\",\"3 class\"))\n",
    "plt.xlabel(\"Age\")\n",
    "plt.ylabel(\"Density\")"
   ]
  },
  {
   "cell_type": "markdown",
   "id": "6167c945",
   "metadata": {},
   "source": [
    "people in 3 class are the most numerous group and also the youngest (most children traveled in the 3rd or 2nd class). First class is the most diverse in terms of age from all three"
   ]
  },
  {
   "cell_type": "code",
   "execution_count": 16,
   "id": "703e1c18",
   "metadata": {},
   "outputs": [
    {
     "data": {
      "image/png": "[encoded data removed]",
      "text/plain": [
       "<Figure size 432x288 with 1 Axes>"
      ]
     },
     "metadata": {},
     "output_type": "display_data"
    }
   ],
   "source": [
    "pclass_survived_sex = sns.barplot(x=\"Pclass\",y=\"Survived\", hue=\"Sex\", data=df_train, palette='rainbow')\n",
    "pclass_survived_sex = pclass_survived_sex.set_ylabel(\"Survival Probability\")"
   ]
  },
  {
   "cell_type": "markdown",
   "id": "339aa803",
   "metadata": {},
   "source": [
    "It could not be more clear:\n",
    "- women were more likely to survive (especially in 1st and 2nd class, and even for a women in 3rd, it was more probable to to survive than a man from 1st)\n",
    "- men from 1st class had two times bigger survival propability than a man from 2nd or 3rd class\n",
    "- indication of uncertainty for a men in 3rd class and a women in 1st class is really low -> less error possibility here, or in other words: the first group is screwed up, and if you want to be somewhere on this sinking ship, and you happen to be a girl or a woman, it's best to be in 1st class cabin."
   ]
  },
  {
   "cell_type": "markdown",
   "id": "a8de004c",
   "metadata": {},
   "source": [
    "### SibSp"
   ]
  },
  {
   "cell_type": "code",
   "execution_count": 17,
   "id": "0b083f6b",
   "metadata": {},
   "outputs": [
    {
     "data": {
      "image/png": "[encoded data removed]",
      "text/plain": [
       "<Figure size 432x288 with 1 Axes>"
      ]
     },
     "metadata": {},
     "output_type": "display_data"
    }
   ],
   "source": [
    "SibSp_survived = sns.barplot(x=\"SibSp\",y=\"Survived\", data=df_train, palette='rainbow')\n",
    "SibSp_survived = SibSp_survived.set_ylabel(\"Survival Probability\")"
   ]
  },
  {
   "cell_type": "markdown",
   "id": "ac7b2365",
   "metadata": {},
   "source": [
    "- one of two people with one sibiling/spouse survived, and 3 from 10 with zero sibiling/spouse\n",
    "- other groups have not to many people to make proper predictions (0 group consists of  608 people, 1 group consists of 209, the remaining five groups consist of 74 people) --> that is why an indication of uncertainty is so high there"
   ]
  },
  {
   "cell_type": "code",
   "execution_count": 18,
   "id": "3a57db1d",
   "metadata": {},
   "outputs": [
    {
     "data": {
      "text/html": [
       "<style type=\"text/css\">\n",
       "#T_5e908_row0_col0, #T_5e908_row0_col1 {\n",
       "  background-color: #008066;\n",
       "  color: #f1f1f1;\n",
       "}\n",
       "#T_5e908_row1_col0 {\n",
       "  background-color: #c4e266;\n",
       "  color: #000000;\n",
       "}\n",
       "#T_5e908_row1_col1 {\n",
       "  background-color: #77bb66;\n",
       "  color: #f1f1f1;\n",
       "}\n",
       "#T_5e908_row2_col0, #T_5e908_row4_col0 {\n",
       "  background-color: #f9fc66;\n",
       "  color: #000000;\n",
       "}\n",
       "#T_5e908_row2_col1 {\n",
       "  background-color: #f0f866;\n",
       "  color: #000000;\n",
       "}\n",
       "#T_5e908_row3_col0, #T_5e908_row3_col1 {\n",
       "  background-color: #fbfd66;\n",
       "  color: #000000;\n",
       "}\n",
       "#T_5e908_row4_col1 {\n",
       "  background-color: #fcfe66;\n",
       "  color: #000000;\n",
       "}\n",
       "#T_5e908_row5_col0, #T_5e908_row5_col1, #T_5e908_row6_col1 {\n",
       "  background-color: #ffff66;\n",
       "  color: #000000;\n",
       "}\n",
       "#T_5e908_row6_col0 {\n",
       "  background-color: #fefe66;\n",
       "  color: #000000;\n",
       "}\n",
       "</style>\n",
       "<table id=\"T_5e908\">\n",
       "  <thead>\n",
       "    <tr>\n",
       "      <th class=\"index_name level0\" >Survived</th>\n",
       "      <th id=\"T_5e908_level0_col0\" class=\"col_heading level0 col0\" >0</th>\n",
       "      <th id=\"T_5e908_level0_col1\" class=\"col_heading level0 col1\" >1</th>\n",
       "    </tr>\n",
       "    <tr>\n",
       "      <th class=\"index_name level0\" >SibSp</th>\n",
       "      <th class=\"blank col0\" >&nbsp;</th>\n",
       "      <th class=\"blank col1\" >&nbsp;</th>\n",
       "    </tr>\n",
       "  </thead>\n",
       "  <tbody>\n",
       "    <tr>\n",
       "      <th id=\"T_5e908_level0_row0\" class=\"row_heading level0 row0\" >0</th>\n",
       "      <td id=\"T_5e908_row0_col0\" class=\"data row0 col0\" >398</td>\n",
       "      <td id=\"T_5e908_row0_col1\" class=\"data row0 col1\" >210</td>\n",
       "    </tr>\n",
       "    <tr>\n",
       "      <th id=\"T_5e908_level0_row1\" class=\"row_heading level0 row1\" >1</th>\n",
       "      <td id=\"T_5e908_row1_col0\" class=\"data row1 col0\" >97</td>\n",
       "      <td id=\"T_5e908_row1_col1\" class=\"data row1 col1\" >112</td>\n",
       "    </tr>\n",
       "    <tr>\n",
       "      <th id=\"T_5e908_level0_row2\" class=\"row_heading level0 row2\" >2</th>\n",
       "      <td id=\"T_5e908_row2_col0\" class=\"data row2 col0\" >15</td>\n",
       "      <td id=\"T_5e908_row2_col1\" class=\"data row2 col1\" >13</td>\n",
       "    </tr>\n",
       "    <tr>\n",
       "      <th id=\"T_5e908_level0_row3\" class=\"row_heading level0 row3\" >3</th>\n",
       "      <td id=\"T_5e908_row3_col0\" class=\"data row3 col0\" >12</td>\n",
       "      <td id=\"T_5e908_row3_col1\" class=\"data row3 col1\" >4</td>\n",
       "    </tr>\n",
       "    <tr>\n",
       "      <th id=\"T_5e908_level0_row4\" class=\"row_heading level0 row4\" >4</th>\n",
       "      <td id=\"T_5e908_row4_col0\" class=\"data row4 col0\" >15</td>\n",
       "      <td id=\"T_5e908_row4_col1\" class=\"data row4 col1\" >3</td>\n",
       "    </tr>\n",
       "    <tr>\n",
       "      <th id=\"T_5e908_level0_row5\" class=\"row_heading level0 row5\" >5</th>\n",
       "      <td id=\"T_5e908_row5_col0\" class=\"data row5 col0\" >5</td>\n",
       "      <td id=\"T_5e908_row5_col1\" class=\"data row5 col1\" >0</td>\n",
       "    </tr>\n",
       "    <tr>\n",
       "      <th id=\"T_5e908_level0_row6\" class=\"row_heading level0 row6\" >8</th>\n",
       "      <td id=\"T_5e908_row6_col0\" class=\"data row6 col0\" >7</td>\n",
       "      <td id=\"T_5e908_row6_col1\" class=\"data row6 col1\" >0</td>\n",
       "    </tr>\n",
       "  </tbody>\n",
       "</table>\n"
      ],
      "text/plain": [
       "<pandas.io.formats.style.Styler at 0x13035bfd0>"
      ]
     },
     "execution_count": 18,
     "metadata": {},
     "output_type": "execute_result"
    }
   ],
   "source": [
    "pd.crosstab([df_train.SibSp],df_train.Survived).style.background_gradient(cmap='summer_r')"
   ]
  },
  {
   "cell_type": "code",
   "execution_count": 19,
   "id": "4c5ab9d8",
   "metadata": {},
   "outputs": [
    {
     "data": {
      "image/png": "[encoded data removed]",
      "text/plain": [
       "<Figure size 432x288 with 1 Axes>"
      ]
     },
     "metadata": {},
     "output_type": "display_data"
    }
   ],
   "source": [
    "SibSp_survived_sex = sns.barplot(x=\"SibSp\",y=\"Survived\", hue=\"Sex\", data=df_train, palette='rainbow')\n",
    "SibSp_survived_sex = SibSp_survived_sex.set_ylabel(\"Survival Probability\")"
   ]
  },
  {
   "cell_type": "markdown",
   "id": "76bc81d0",
   "metadata": {},
   "source": [
    "same story here: stats good for women, but from 2 to 8 groups are to small to make proper data processing"
   ]
  },
  {
   "cell_type": "markdown",
   "id": "db5dce56",
   "metadata": {},
   "source": [
    "### Parch"
   ]
  },
  {
   "cell_type": "code",
   "execution_count": 20,
   "id": "346894a2",
   "metadata": {
    "scrolled": true
   },
   "outputs": [
    {
     "data": {
      "image/png": "[encoded data removed]",
      "text/plain": [
       "<Figure size 432x288 with 1 Axes>"
      ]
     },
     "metadata": {},
     "output_type": "display_data"
    }
   ],
   "source": [
    "Parch_survived = sns.barplot(x=\"Parch\",y=\"Survived\", data=df_train, palette='rainbow')\n",
    "Parch_survived = Parch_survived.set_ylabel(\"Survival Probability\")"
   ]
  },
  {
   "cell_type": "code",
   "execution_count": 21,
   "id": "5d34a37f",
   "metadata": {},
   "outputs": [
    {
     "data": {
      "text/html": [
       "<style type=\"text/css\">\n",
       "#T_11198_row0_col0, #T_11198_row0_col1 {\n",
       "  background-color: #008066;\n",
       "  color: #f1f1f1;\n",
       "}\n",
       "#T_11198_row1_col0 {\n",
       "  background-color: #e2f066;\n",
       "  color: #000000;\n",
       "}\n",
       "#T_11198_row1_col1 {\n",
       "  background-color: #b8dc66;\n",
       "  color: #000000;\n",
       "}\n",
       "#T_11198_row2_col0 {\n",
       "  background-color: #e9f466;\n",
       "  color: #000000;\n",
       "}\n",
       "#T_11198_row2_col1 {\n",
       "  background-color: #d4ea66;\n",
       "  color: #000000;\n",
       "}\n",
       "#T_11198_row3_col0, #T_11198_row4_col1, #T_11198_row6_col0, #T_11198_row6_col1 {\n",
       "  background-color: #ffff66;\n",
       "  color: #000000;\n",
       "}\n",
       "#T_11198_row3_col1 {\n",
       "  background-color: #fcfe66;\n",
       "  color: #000000;\n",
       "}\n",
       "#T_11198_row4_col0, #T_11198_row5_col0, #T_11198_row5_col1 {\n",
       "  background-color: #fefe66;\n",
       "  color: #000000;\n",
       "}\n",
       "</style>\n",
       "<table id=\"T_11198\">\n",
       "  <thead>\n",
       "    <tr>\n",
       "      <th class=\"index_name level0\" >Survived</th>\n",
       "      <th id=\"T_11198_level0_col0\" class=\"col_heading level0 col0\" >0</th>\n",
       "      <th id=\"T_11198_level0_col1\" class=\"col_heading level0 col1\" >1</th>\n",
       "    </tr>\n",
       "    <tr>\n",
       "      <th class=\"index_name level0\" >Parch</th>\n",
       "      <th class=\"blank col0\" >&nbsp;</th>\n",
       "      <th class=\"blank col1\" >&nbsp;</th>\n",
       "    </tr>\n",
       "  </thead>\n",
       "  <tbody>\n",
       "    <tr>\n",
       "      <th id=\"T_11198_level0_row0\" class=\"row_heading level0 row0\" >0</th>\n",
       "      <td id=\"T_11198_row0_col0\" class=\"data row0 col0\" >445</td>\n",
       "      <td id=\"T_11198_row0_col1\" class=\"data row0 col1\" >233</td>\n",
       "    </tr>\n",
       "    <tr>\n",
       "      <th id=\"T_11198_level0_row1\" class=\"row_heading level0 row1\" >1</th>\n",
       "      <td id=\"T_11198_row1_col0\" class=\"data row1 col0\" >53</td>\n",
       "      <td id=\"T_11198_row1_col1\" class=\"data row1 col1\" >65</td>\n",
       "    </tr>\n",
       "    <tr>\n",
       "      <th id=\"T_11198_level0_row2\" class=\"row_heading level0 row2\" >2</th>\n",
       "      <td id=\"T_11198_row2_col0\" class=\"data row2 col0\" >40</td>\n",
       "      <td id=\"T_11198_row2_col1\" class=\"data row2 col1\" >40</td>\n",
       "    </tr>\n",
       "    <tr>\n",
       "      <th id=\"T_11198_level0_row3\" class=\"row_heading level0 row3\" >3</th>\n",
       "      <td id=\"T_11198_row3_col0\" class=\"data row3 col0\" >2</td>\n",
       "      <td id=\"T_11198_row3_col1\" class=\"data row3 col1\" >3</td>\n",
       "    </tr>\n",
       "    <tr>\n",
       "      <th id=\"T_11198_level0_row4\" class=\"row_heading level0 row4\" >4</th>\n",
       "      <td id=\"T_11198_row4_col0\" class=\"data row4 col0\" >4</td>\n",
       "      <td id=\"T_11198_row4_col1\" class=\"data row4 col1\" >0</td>\n",
       "    </tr>\n",
       "    <tr>\n",
       "      <th id=\"T_11198_level0_row5\" class=\"row_heading level0 row5\" >5</th>\n",
       "      <td id=\"T_11198_row5_col0\" class=\"data row5 col0\" >4</td>\n",
       "      <td id=\"T_11198_row5_col1\" class=\"data row5 col1\" >1</td>\n",
       "    </tr>\n",
       "    <tr>\n",
       "      <th id=\"T_11198_level0_row6\" class=\"row_heading level0 row6\" >6</th>\n",
       "      <td id=\"T_11198_row6_col0\" class=\"data row6 col0\" >1</td>\n",
       "      <td id=\"T_11198_row6_col1\" class=\"data row6 col1\" >0</td>\n",
       "    </tr>\n",
       "  </tbody>\n",
       "</table>\n"
      ],
      "text/plain": [
       "<pandas.io.formats.style.Styler at 0x130574a90>"
      ]
     },
     "execution_count": 21,
     "metadata": {},
     "output_type": "execute_result"
    }
   ],
   "source": [
    "pd.crosstab([df_train.Parch],df_train.Survived).style.background_gradient(cmap='summer_r')"
   ]
  },
  {
   "cell_type": "markdown",
   "id": "493364d0",
   "metadata": {},
   "source": [
    "again: except 0 group, the number of others is so small that when editing the data, it will be worth combining 'Parch' and 'SibSp' and probably divide it into few bins"
   ]
  },
  {
   "cell_type": "markdown",
   "id": "9a64ecd9",
   "metadata": {},
   "source": [
    "### Embarked"
   ]
  },
  {
   "cell_type": "code",
   "execution_count": 22,
   "id": "6c59714a",
   "metadata": {},
   "outputs": [
    {
     "data": {
      "text/plain": [
       "<AxesSubplot:xlabel='Embarked', ylabel='count'>"
      ]
     },
     "execution_count": 22,
     "metadata": {},
     "output_type": "execute_result"
    },
    {
     "data": {
      "image/png": "[encoded data removed]",
      "text/plain": [
       "<Figure size 576x360 with 1 Axes>"
      ]
     },
     "metadata": {},
     "output_type": "display_data"
    }
   ],
   "source": [
    "plt.figure(figsize=(8, 5))\n",
    "sns.set_style('whitegrid')\n",
    "sns.countplot(x = 'Embarked',hue='Survived',data=df_train, palette = \"Set1\" )"
   ]
  },
  {
   "cell_type": "code",
   "execution_count": 23,
   "id": "fcd4ef59",
   "metadata": {},
   "outputs": [
    {
     "name": "stderr",
     "output_type": "stream",
     "text": [
      "/Users/Agata/anaconda3/lib/python3.9/site-packages/seaborn/axisgrid.py:670: UserWarning: Using the pointplot function without specifying `order` is likely to produce an incorrect plot.\n",
      "  warnings.warn(warning)\n",
      "/Users/Agata/anaconda3/lib/python3.9/site-packages/seaborn/axisgrid.py:675: UserWarning: Using the pointplot function without specifying `hue_order` is likely to produce an incorrect plot.\n",
      "  warnings.warn(warning)\n"
     ]
    },
    {
     "data": {
      "text/plain": [
       "<seaborn.axisgrid.FacetGrid at 0x1305b9f70>"
      ]
     },
     "execution_count": 23,
     "metadata": {},
     "output_type": "execute_result"
    },
    {
     "data": {
      "image/png": "[encoded data removed]",
      "text/plain": [
       "<Figure size 714.125x216 with 3 Axes>"
      ]
     },
     "metadata": {},
     "output_type": "display_data"
    }
   ],
   "source": [
    "Embarked_Pclass_Survived_Sex = sns.FacetGrid(df_train, col = 'Embarked')\n",
    "Embarked_Pclass_Survived_Sex.map(sns.pointplot, 'Pclass', 'Survived', 'Sex', ci=100, palette = 'Set2')\n",
    "Embarked_Pclass_Survived_Sex.add_legend()"
   ]
  },
  {
   "cell_type": "markdown",
   "id": "323ab68b",
   "metadata": {},
   "source": [
    "The funny thing about smaller groups is that the results of their analysis can, sometimes significantly, deviate from the results of the whole set, and this is exactly what we see here when looking at the results from 'Embarked' C - Cherbourg"
   ]
  },
  {
   "cell_type": "code",
   "execution_count": 24,
   "id": "ab2d82d9",
   "metadata": {
    "scrolled": false
   },
   "outputs": [
    {
     "data": {
      "text/plain": [
       "<AxesSubplot:xlabel='Embarked', ylabel='count'>"
      ]
     },
     "execution_count": 24,
     "metadata": {},
     "output_type": "execute_result"
    },
    {
     "data": {
      "image/png": "[encoded data removed]",
      "text/plain": [
       "<Figure size 576x360 with 1 Axes>"
      ]
     },
     "metadata": {},
     "output_type": "display_data"
    }
   ],
   "source": [
    "plt.figure(figsize=(8, 5))\n",
    "sns.set_style('whitegrid')\n",
    "sns.countplot(x = 'Embarked',hue='Pclass',data=df_train, palette = \"Set1\" )"
   ]
  },
  {
   "cell_type": "code",
   "execution_count": 25,
   "id": "6a0bcd35",
   "metadata": {},
   "outputs": [
    {
     "data": {
      "text/plain": [
       "<AxesSubplot:xlabel='Embarked', ylabel='count'>"
      ]
     },
     "execution_count": 25,
     "metadata": {},
     "output_type": "execute_result"
    },
    {
     "data": {
      "image/png": "[encoded data removed]",
      "text/plain": [
       "<Figure size 576x360 with 1 Axes>"
      ]
     },
     "metadata": {},
     "output_type": "display_data"
    }
   ],
   "source": [
    "plt.figure(figsize=(8, 5))\n",
    "sns.set_style('whitegrid')\n",
    "sns.countplot(x = 'Embarked',hue='Sex',data=df_train, palette = \"Set1\" )"
   ]
  },
  {
   "cell_type": "markdown",
   "id": "a77db080",
   "metadata": {},
   "source": [
    "I was wrong, this is not the cause of the \"smaller group\". What we can clearly see above, in Cherbourg half of people joined the 1st class, where there was a higher probability of survival than in 3rd class - unlike people from Queenstown (over 90% were in 3rd class). Almost all Cherbourg`s 2nd class male passangers survived, that is unusual (close to one hunderet man!)."
   ]
  },
  {
   "cell_type": "markdown",
   "id": "8c03f7e8",
   "metadata": {},
   "source": [
    "### Other (Ticket, Cabin, PassengerId, Name)"
   ]
  },
  {
   "cell_type": "markdown",
   "id": "06f0d3dd",
   "metadata": {},
   "source": [
    "- Ticket: it cannot be categorised, it is a random string data\n",
    "- Cabin: a lot of NaN values and also many passengers have multiple cabins. seems useless here\n",
    "- PassengerId: cannot be categorised - it is more index-like data\n",
    "- Name: I will extract 'Title' and use it for 'fueling' my prediction"
   ]
  },
  {
   "cell_type": "markdown",
   "id": "f189b3ca",
   "metadata": {},
   "source": [
    "## Feature Engineering and Data Cleaning"
   ]
  },
  {
   "cell_type": "code",
   "execution_count": 26,
   "id": "b04bbd81",
   "metadata": {},
   "outputs": [
    {
     "data": {
      "text/plain": [
       "PassengerId      0\n",
       "Survived         0\n",
       "Pclass           0\n",
       "Name             0\n",
       "Sex              0\n",
       "Age            177\n",
       "SibSp            0\n",
       "Parch            0\n",
       "Ticket           0\n",
       "Fare             0\n",
       "Cabin          687\n",
       "Embarked         2\n",
       "dtype: int64"
      ]
     },
     "execution_count": 26,
     "metadata": {},
     "output_type": "execute_result"
    }
   ],
   "source": [
    "df_train.isnull().sum()"
   ]
  },
  {
   "cell_type": "code",
   "execution_count": 27,
   "id": "4d9f0d9f",
   "metadata": {},
   "outputs": [
    {
     "data": {
      "text/plain": [
       "PassengerId      0\n",
       "Pclass           0\n",
       "Name             0\n",
       "Sex              0\n",
       "Age             86\n",
       "SibSp            0\n",
       "Parch            0\n",
       "Ticket           0\n",
       "Fare             1\n",
       "Cabin          327\n",
       "Embarked         0\n",
       "dtype: int64"
      ]
     },
     "execution_count": 27,
     "metadata": {},
     "output_type": "execute_result"
    }
   ],
   "source": [
    "df_test.isnull().sum()"
   ]
  },
  {
   "cell_type": "markdown",
   "id": "840ae1fc",
   "metadata": {},
   "source": [
    "after Exploratory Data Analysis it is 4C`s time (Correcting, Completing, Creating, and Converting).\n",
    "At this point I will start to modify/operate/use test.csv file.\n",
    "\n",
    "At first I will extract 'Title' from 'Name' and use its age mean to refill age values."
   ]
  },
  {
   "cell_type": "markdown",
   "id": "130a4c2c",
   "metadata": {},
   "source": [
    "### Name --> Title --> Title (numerical)"
   ]
  },
  {
   "cell_type": "markdown",
   "id": "af6d3f68",
   "metadata": {},
   "source": [
    "\"most of the algorithms expect numerical values to achieve state-of-the-art results\" hence converting to numerical equivalent values."
   ]
  },
  {
   "cell_type": "code",
   "execution_count": 28,
   "id": "71dfcaa2",
   "metadata": {},
   "outputs": [
    {
     "data": {
      "text/plain": [
       "Mr          517\n",
       "Miss        182\n",
       "Mrs         125\n",
       "Master       40\n",
       "Dr            7\n",
       "Rev           6\n",
       "Mlle          2\n",
       "Major         2\n",
       "Col           2\n",
       "Countess      1\n",
       "Capt          1\n",
       "Ms            1\n",
       "Sir           1\n",
       "Lady          1\n",
       "Mme           1\n",
       "Don           1\n",
       "Jonkheer      1\n",
       "Name: Title, dtype: int64"
      ]
     },
     "execution_count": 28,
     "metadata": {},
     "output_type": "execute_result"
    }
   ],
   "source": [
    "df_train['Title']=0\n",
    "for i in df_train:\n",
    "    df_train['Title']=df_train.Name.str.extract('([A-Za-z]+)\\.') #extracting the Title (Salutations)\n",
    "df_train['Title'].value_counts()"
   ]
  },
  {
   "cell_type": "code",
   "execution_count": 29,
   "id": "78cd18f0",
   "metadata": {},
   "outputs": [
    {
     "data": {
      "image/png": "[encoded data removed]",
      "text/plain": [
       "<Figure size 432x288 with 1 Axes>"
      ]
     },
     "metadata": {},
     "output_type": "display_data"
    }
   ],
   "source": [
    "df_train['Title'].replace(['Mlle','Mme','Ms','Dr','Major','Lady','Countess','Jonkheer','Col','Rev','Capt','Sir','Don'],\n",
    "                        ['Miss','Miss','Miss','Mr','Mr','Mrs','Mrs','Other','Other','Other','Mr','Mr','Mr'],inplace=True)\n",
    "name_to_title = sns.barplot(x=df_train['Title'], y = 'Survived', data=df_train, palette='rainbow')\n",
    "name_to_title = name_to_title.set_ylabel(\"Survival Probability\")"
   ]
  },
  {
   "cell_type": "code",
   "execution_count": 30,
   "id": "efb956d1",
   "metadata": {},
   "outputs": [
    {
     "data": {
      "image/png": "[encoded data removed]",
      "text/plain": [
       "<Figure size 432x288 with 1 Axes>"
      ]
     },
     "metadata": {},
     "output_type": "display_data"
    }
   ],
   "source": [
    "name_to_title = sns.countplot(x=df_train['Title'], hue = 'Survived', data=df_train, palette='rainbow')"
   ]
  },
  {
   "cell_type": "markdown",
   "id": "714644d5",
   "metadata": {},
   "source": [
    "What I did here:\n",
    "- first using really neat trick (thank you Internet) I extracted salutations and I created a new column calling it 'Title'\n",
    "- 17 'titles' came up so I left four of the most numerous (adding their equivalents, like 'Mlle' -> Mademoiselle --> Miss, and replaced all other with \"Other\", what created 5 bins (Mr, Mrs, Miss, Master, Other)"
   ]
  },
  {
   "cell_type": "markdown",
   "id": "cbb33324",
   "metadata": {},
   "source": [
    "The same thing for test file:"
   ]
  },
  {
   "cell_type": "code",
   "execution_count": 31,
   "id": "99f69a9e",
   "metadata": {},
   "outputs": [],
   "source": [
    "df_test['Title']=0\n",
    "for i in df_test:\n",
    "    df_test['Title']=df_test.Name.str.extract('([A-Za-z]+)\\.')\n",
    "df_test['Title'].replace(['Dona','Mlle','Mme','Ms','Dr','Major','Lady','Countess','Jonkheer','Col','Rev','Capt','Sir','Don'],\n",
    "                        ['Mrs','Miss','Miss','Miss','Mr','Mr','Mrs','Mrs','Other','Other','Other','Mr','Mr','Mr'],inplace=True)"
   ]
  },
  {
   "cell_type": "code",
   "execution_count": 32,
   "id": "90a2ddf1",
   "metadata": {},
   "outputs": [],
   "source": [
    "df_train['Title'].replace(['Mr','Mrs','Miss','Master','Other'],[0,1,2,3,4],inplace=True)\n",
    "df_test['Title'].replace(['Mr','Mrs','Miss','Master','Other'],[0,1,2,3,4],inplace=True)"
   ]
  },
  {
   "cell_type": "markdown",
   "id": "d5d9829d",
   "metadata": {},
   "source": [
    "### Age -->Age data compliting --> Age_Bin"
   ]
  },
  {
   "cell_type": "markdown",
   "id": "1e08ce6c",
   "metadata": {},
   "source": [
    "let first join test and train data, extract some values and fill missing age values"
   ]
  },
  {
   "cell_type": "code",
   "execution_count": 33,
   "id": "2204001f",
   "metadata": {},
   "outputs": [],
   "source": [
    "linked_data =  pd.concat(objs=[df_train, df_test], axis=0).reset_index(drop=True)"
   ]
  },
  {
   "cell_type": "code",
   "execution_count": 34,
   "id": "f40b8d50",
   "metadata": {
    "scrolled": true
   },
   "outputs": [
    {
     "data": {
      "text/plain": [
       "Title\n",
       "0    33.0\n",
       "1    37.0\n",
       "2    22.0\n",
       "3     5.0\n",
       "4    45.0\n",
       "Name: Age, dtype: float64"
      ]
     },
     "execution_count": 34,
     "metadata": {},
     "output_type": "execute_result"
    }
   ],
   "source": [
    "linked_data.groupby('Title')['Age'].mean().round()"
   ]
  },
  {
   "cell_type": "markdown",
   "id": "7fc3c40c",
   "metadata": {},
   "source": [
    "I'll use these to replace NaN:"
   ]
  },
  {
   "cell_type": "code",
   "execution_count": 35,
   "id": "19ee69bf",
   "metadata": {},
   "outputs": [],
   "source": [
    "df_train.loc[(df_train['Age'].isnull())&(df_train['Title'] == 0),'Age']= 33\n",
    "df_train.loc[(df_train['Age'].isnull())&(df_train['Title'] == 1),'Age']= 37\n",
    "df_train.loc[(df_train.Age.isnull())&(df_train.Title == 2),'Age']= 22\n",
    "df_train.loc[(df_train.Age.isnull())&(df_train.Title == 3),'Age']= 5\n",
    "df_train.loc[(df_train.Age.isnull())&(df_train.Title == 4),'Age']= 45"
   ]
  },
  {
   "cell_type": "code",
   "execution_count": 36,
   "id": "1824170c",
   "metadata": {},
   "outputs": [
    {
     "data": {
      "text/plain": [
       "PassengerId      0\n",
       "Survived         0\n",
       "Pclass           0\n",
       "Name             0\n",
       "Sex              0\n",
       "Age              0\n",
       "SibSp            0\n",
       "Parch            0\n",
       "Ticket           0\n",
       "Fare             0\n",
       "Cabin          687\n",
       "Embarked         2\n",
       "Title            0\n",
       "dtype: int64"
      ]
     },
     "execution_count": 36,
     "metadata": {},
     "output_type": "execute_result"
    }
   ],
   "source": [
    "df_train.isnull().sum()"
   ]
  },
  {
   "cell_type": "code",
   "execution_count": 37,
   "id": "82e9fcfc",
   "metadata": {
    "scrolled": true
   },
   "outputs": [
    {
     "data": {
      "text/plain": [
       "3    304\n",
       "2    256\n",
       "1    102\n",
       "4     89\n",
       "0     66\n",
       "5     48\n",
       "6     26\n",
       "Name: Age_Bin, dtype: int64"
      ]
     },
     "execution_count": 37,
     "metadata": {},
     "output_type": "execute_result"
    }
   ],
   "source": [
    "df_train['Age_Bin']=0\n",
    "df_train.loc[df_train['Age']<=9,'Age_Bin']=0\n",
    "df_train.loc[(df_train['Age']>9)&(df_train['Age']<=19),'Age_Bin']=1\n",
    "df_train.loc[(df_train['Age']>19)&(df_train['Age']<=29),'Age_Bin']=2\n",
    "df_train.loc[(df_train['Age']>29)&(df_train['Age']<=39),'Age_Bin']=3\n",
    "df_train.loc[(df_train['Age']>39)&(df_train['Age']<=49),'Age_Bin']=4\n",
    "df_train.loc[(df_train['Age']>49)&(df_train['Age']<=59),'Age_Bin']=5\n",
    "df_train.loc[df_train['Age']>59,'Age_Bin']=6\n",
    "df_train['Age_Bin'].value_counts()"
   ]
  },
  {
   "cell_type": "code",
   "execution_count": 38,
   "id": "c4676c39",
   "metadata": {
    "scrolled": true
   },
   "outputs": [
    {
     "data": {
      "image/png": "[encoded data removed]",
      "text/plain": [
       "<Figure size 432x288 with 1 Axes>"
      ]
     },
     "metadata": {},
     "output_type": "display_data"
    }
   ],
   "source": [
    "name_to_title = sns.countplot(x=df_train['Age_Bin'], hue = 'Survived', data=df_train, palette='rainbow')"
   ]
  },
  {
   "cell_type": "markdown",
   "id": "8bdb5ae1",
   "metadata": {},
   "source": [
    "At first I thought it would be nice to create simetrical bins (kind of for those born every decade) but 4th and next are not too numerous so i decided to 'change that"
   ]
  },
  {
   "cell_type": "code",
   "execution_count": 39,
   "id": "1fa6d458",
   "metadata": {},
   "outputs": [
    {
     "data": {
      "text/plain": [
       "80.0"
      ]
     },
     "execution_count": 39,
     "metadata": {},
     "output_type": "execute_result"
    }
   ],
   "source": [
    "df_train['Age'].max()"
   ]
  },
  {
   "cell_type": "code",
   "execution_count": 40,
   "id": "ae6af24d",
   "metadata": {
    "scrolled": true
   },
   "outputs": [],
   "source": [
    "cut_labels = [1, 2, 3 ,4]\n",
    "cut_bins = [0,16,30,45,81]\n",
    "df_train['Age_Bin'] = pd.cut(df_train['Age'], bins=cut_bins, labels=cut_labels)"
   ]
  },
  {
   "cell_type": "code",
   "execution_count": 41,
   "id": "56998860",
   "metadata": {},
   "outputs": [
    {
     "data": {
      "image/png": "[encoded data removed]",
      "text/plain": [
       "<Figure size 432x288 with 1 Axes>"
      ]
     },
     "metadata": {},
     "output_type": "display_data"
    }
   ],
   "source": [
    "name_to_title = sns.countplot(x=df_train['Age_Bin'], hue = 'Survived', data=df_train, palette='rainbow')"
   ]
  },
  {
   "cell_type": "markdown",
   "id": "01ac979c",
   "metadata": {},
   "source": [
    "'binning is usually discouraged. It results in loosing information, so you have worse quality features to train as compared to the raw data' that is one opinion (https://stats.stackexchange.com/questions/563813/why-use-supervised-binning-on-train-data-if-it-leaks-data). On the other hand "
   ]
  },
  {
   "cell_type": "code",
   "execution_count": 42,
   "id": "d8d5ff87",
   "metadata": {
    "scrolled": true
   },
   "outputs": [
    {
     "data": {
      "image/png": "[encoded data removed]",
      "text/plain": [
       "<Figure size 432x288 with 1 Axes>"
      ]
     },
     "metadata": {},
     "output_type": "display_data"
    }
   ],
   "source": [
    "SibSp_survived_sex = sns.barplot(x=\"Age_Bin\",y=\"Survived\", hue=\"Sex\", data=df_train, palette='rainbow')"
   ]
  },
  {
   "cell_type": "code",
   "execution_count": 43,
   "id": "4c463f8a",
   "metadata": {},
   "outputs": [
    {
     "data": {
      "text/plain": [
       "76.0"
      ]
     },
     "execution_count": 43,
     "metadata": {},
     "output_type": "execute_result"
    }
   ],
   "source": [
    "df_test['Age'].max()"
   ]
  },
  {
   "cell_type": "markdown",
   "id": "d1aafe1b",
   "metadata": {},
   "source": [
    "the same thing for test.csv:"
   ]
  },
  {
   "cell_type": "code",
   "execution_count": 44,
   "id": "b25988ce",
   "metadata": {},
   "outputs": [],
   "source": [
    "df_test.loc[(df_test.Age.isnull())&(df_test.Title == 0),'Age'] = 33\n",
    "df_test.loc[(df_test.Age.isnull())&(df_test.Title == 1),'Age'] = 37\n",
    "df_test.loc[(df_test.Age.isnull())&(df_test.Title == 2),'Age'] = 22\n",
    "df_test.loc[(df_test.Age.isnull())&(df_test.Title == 3),'Age'] = 5\n",
    "df_test.loc[(df_test.Age.isnull())&(df_test.Title == 4),'Age'] = 45"
   ]
  },
  {
   "cell_type": "code",
   "execution_count": 45,
   "id": "e3af71d1",
   "metadata": {},
   "outputs": [],
   "source": [
    "cut_labels = [1, 2, 3 ,4]\n",
    "cut_bins = [0,13,30,45,81]\n",
    "df_test['Age_Bin'] = pd.cut(df_test['Age'], bins=cut_bins, labels=cut_labels)"
   ]
  },
  {
   "cell_type": "code",
   "execution_count": 46,
   "id": "7555d0e4",
   "metadata": {},
   "outputs": [
    {
     "data": {
      "text/plain": [
       "PassengerId      0\n",
       "Survived         0\n",
       "Pclass           0\n",
       "Name             0\n",
       "Sex              0\n",
       "Age              0\n",
       "SibSp            0\n",
       "Parch            0\n",
       "Ticket           0\n",
       "Fare             0\n",
       "Cabin          687\n",
       "Embarked         2\n",
       "Title            0\n",
       "Age_Bin          0\n",
       "dtype: int64"
      ]
     },
     "execution_count": 46,
     "metadata": {},
     "output_type": "execute_result"
    }
   ],
   "source": [
    "df_train.isnull().sum()"
   ]
  },
  {
   "cell_type": "code",
   "execution_count": 47,
   "id": "af0fcbc9",
   "metadata": {
    "scrolled": true
   },
   "outputs": [
    {
     "data": {
      "text/plain": [
       "PassengerId      0\n",
       "Pclass           0\n",
       "Name             0\n",
       "Sex              0\n",
       "Age              0\n",
       "SibSp            0\n",
       "Parch            0\n",
       "Ticket           0\n",
       "Fare             1\n",
       "Cabin          327\n",
       "Embarked         0\n",
       "Title            0\n",
       "Age_Bin          0\n",
       "dtype: int64"
      ]
     },
     "execution_count": 47,
     "metadata": {},
     "output_type": "execute_result"
    }
   ],
   "source": [
    "df_test.isnull().sum()"
   ]
  },
  {
   "cell_type": "markdown",
   "id": "32383322",
   "metadata": {},
   "source": [
    "### Sex --> Sex (numerical)"
   ]
  },
  {
   "cell_type": "code",
   "execution_count": 48,
   "id": "6c90c2f2",
   "metadata": {},
   "outputs": [],
   "source": [
    "df_train['Sex'].replace(['male','female'],[0,1],inplace=True)\n",
    "df_test['Sex'].replace(['male','female'],[0,1],inplace=True)"
   ]
  },
  {
   "cell_type": "markdown",
   "id": "91f393bf",
   "metadata": {},
   "source": [
    "### Embarked --> Embarked data compliting --> Embarked (numerical)"
   ]
  },
  {
   "cell_type": "markdown",
   "id": "5e405b2b",
   "metadata": {},
   "source": [
    "there are only 2 missing and only in train file. And because majority of people embarked in Southampton I will use 'S' to fill NaN"
   ]
  },
  {
   "cell_type": "code",
   "execution_count": 49,
   "id": "c7c3b69f",
   "metadata": {},
   "outputs": [],
   "source": [
    "df_train['Embarked'].fillna('S',inplace=True)"
   ]
  },
  {
   "cell_type": "code",
   "execution_count": 50,
   "id": "cfe225d6",
   "metadata": {
    "scrolled": false
   },
   "outputs": [
    {
     "data": {
      "text/plain": [
       "False"
      ]
     },
     "execution_count": 50,
     "metadata": {},
     "output_type": "execute_result"
    }
   ],
   "source": [
    "df_train.Embarked.isnull().any()"
   ]
  },
  {
   "cell_type": "code",
   "execution_count": 51,
   "id": "7572a2ec",
   "metadata": {},
   "outputs": [],
   "source": [
    "df_train['Embarked'].replace(['S','C','Q'],[0,1,2],inplace=True)\n",
    "df_test['Embarked'].replace(['S','C','Q'],[0,1,2],inplace=True)"
   ]
  },
  {
   "cell_type": "markdown",
   "id": "f7cdb510",
   "metadata": {},
   "source": [
    "### Fare --> Fare data compliting -> Fare_bin"
   ]
  },
  {
   "cell_type": "code",
   "execution_count": 52,
   "id": "6e24d766",
   "metadata": {
    "scrolled": false
   },
   "outputs": [
    {
     "data": {
      "text/plain": [
       "False"
      ]
     },
     "execution_count": 52,
     "metadata": {},
     "output_type": "execute_result"
    }
   ],
   "source": [
    "df_train.Fare.isnull().any()"
   ]
  },
  {
   "cell_type": "code",
   "execution_count": 53,
   "id": "1088d2e0",
   "metadata": {},
   "outputs": [
    {
     "data": {
      "text/plain": [
       "True"
      ]
     },
     "execution_count": 53,
     "metadata": {},
     "output_type": "execute_result"
    }
   ],
   "source": [
    "df_test.Fare.isnull().any()"
   ]
  },
  {
   "cell_type": "markdown",
   "id": "3ab888b3",
   "metadata": {},
   "source": [
    "only one is missing in test file - I`ll use linked_data and use mean function"
   ]
  },
  {
   "cell_type": "code",
   "execution_count": 54,
   "id": "aa714ad9",
   "metadata": {},
   "outputs": [
    {
     "data": {
      "text/plain": [
       "33.2954792813456"
      ]
     },
     "execution_count": 54,
     "metadata": {},
     "output_type": "execute_result"
    }
   ],
   "source": [
    "linked_data['Fare'].mean()"
   ]
  },
  {
   "cell_type": "code",
   "execution_count": 55,
   "id": "b209c50a",
   "metadata": {},
   "outputs": [],
   "source": [
    "df_test['Fare'].fillna(linked_data['Fare'].mean(),inplace=True)"
   ]
  },
  {
   "cell_type": "code",
   "execution_count": 56,
   "id": "16bcfdfe",
   "metadata": {
    "scrolled": true
   },
   "outputs": [
    {
     "data": {
      "text/plain": [
       "False"
      ]
     },
     "execution_count": 56,
     "metadata": {},
     "output_type": "execute_result"
    }
   ],
   "source": [
    "df_test.Fare.isnull().any()"
   ]
  },
  {
   "cell_type": "markdown",
   "id": "d6ab3f95",
   "metadata": {},
   "source": [
    "ok, well done Marcin. Now it`s time to make bins. I will use pd.qcut here -> “Quantile-based discretization function”"
   ]
  },
  {
   "cell_type": "code",
   "execution_count": 57,
   "id": "279dacc5",
   "metadata": {},
   "outputs": [],
   "source": [
    "df_train['Fare_bin'] = pd.qcut(df_train['Fare'], 4).cat.codes\n",
    "df_test['Fare_bin'] = pd.qcut(df_test['Fare'], 4).cat.codes"
   ]
  },
  {
   "cell_type": "markdown",
   "id": "2c8bdb84",
   "metadata": {},
   "source": [
    "### Cabin --> Cabin data processing -> Cabin (numerical)"
   ]
  },
  {
   "cell_type": "markdown",
   "id": "1c1d90a9",
   "metadata": {},
   "source": [
    "At first I thought I'd give up this column. 77.1% of the data is missing, so who would have thought it had any value. But ... if you treat the missing values as 0 (or X) and compare them with other non-missing values, it is clear that there is a difference between them.\n",
    "\n",
    "I used the linked files to enlarge my collection and draw conclusions and then I divided it"
   ]
  },
  {
   "cell_type": "code",
   "execution_count": 58,
   "id": "ff6a481a",
   "metadata": {
    "scrolled": false
   },
   "outputs": [
    {
     "name": "stderr",
     "output_type": "stream",
     "text": [
      "/Users/Agata/anaconda3/lib/python3.9/site-packages/seaborn/_decorators.py:36: FutureWarning: Pass the following variable as a keyword arg: x. From version 0.12, the only valid positional argument will be `data`, and passing other arguments without an explicit keyword will result in an error or misinterpretation.\n",
      "  warnings.warn(\n"
     ]
    },
    {
     "data": {
      "image/png": "[encoded data removed]",
      "text/plain": [
       "<Figure size 432x288 with 1 Axes>"
      ]
     },
     "metadata": {},
     "output_type": "display_data"
    }
   ],
   "source": [
    "linked_data[\"Cabin\"] = pd.Series([i[0] if not pd.isnull(i) else 'X' for i in linked_data['Cabin']])\n",
    "cabin_bins = sns.countplot(linked_data[\"Cabin\"], order=['A','B','C','D','E','F','G','T','X'])"
   ]
  },
  {
   "cell_type": "code",
   "execution_count": 59,
   "id": "6ca2c5af",
   "metadata": {},
   "outputs": [
    {
     "name": "stderr",
     "output_type": "stream",
     "text": [
      "/Users/Agata/anaconda3/lib/python3.9/site-packages/seaborn/categorical.py:3717: UserWarning: The `factorplot` function has been renamed to `catplot`. The original name will be removed in a future release. Please update your code. Note that the default `kind` in `factorplot` (`'point'`) has changed `'strip'` in `catplot`.\n",
      "  warnings.warn(msg)\n"
     ]
    },
    {
     "data": {
      "image/png": "[encoded data removed]",
      "text/plain": [
       "<Figure size 360x360 with 1 Axes>"
      ]
     },
     "metadata": {},
     "output_type": "display_data"
    }
   ],
   "source": [
    "cabin_bins = sns.factorplot(y=\"Survived\",x=\"Cabin\",data=linked_data,kind=\"bar\",order=['A','B','C','D','E','F','G','T','X'])\n",
    "cabin_bins = cabin_bins.set_ylabels(\"Survival Probability\")"
   ]
  },
  {
   "cell_type": "markdown",
   "id": "0b588e3e",
   "metadata": {},
   "source": [
    "X represents more than one thousand people. The remaining groups are not numerous, but faced with how many have survived, there is a significant difference between X and the rest (except T ;)\n",
    "Using the chart above, I divided the 'Cabin' into 4 categories: 0: [X, T], 1: [A,G], 2: [C,F], 3: [B,D,E]. "
   ]
  },
  {
   "cell_type": "code",
   "execution_count": 60,
   "id": "3b830ea7",
   "metadata": {},
   "outputs": [],
   "source": [
    "linked_data['Cabin'].replace(['A','B','C','D','E','F','G','T','X'],[1,3,2,3,3,2,1,0,0], inplace = True)"
   ]
  },
  {
   "cell_type": "code",
   "execution_count": 61,
   "id": "7f25f7c7",
   "metadata": {},
   "outputs": [
    {
     "data": {
      "text/plain": [
       "0    1015\n",
       "3     152\n",
       "2     115\n",
       "1      27\n",
       "Name: Cabin, dtype: int64"
      ]
     },
     "execution_count": 61,
     "metadata": {},
     "output_type": "execute_result"
    }
   ],
   "source": [
    "linked_data['Cabin'].value_counts()"
   ]
  },
  {
   "cell_type": "code",
   "execution_count": 62,
   "id": "4f9456c7",
   "metadata": {},
   "outputs": [
    {
     "name": "stderr",
     "output_type": "stream",
     "text": [
      "/Users/Agata/anaconda3/lib/python3.9/site-packages/seaborn/categorical.py:3717: UserWarning: The `factorplot` function has been renamed to `catplot`. The original name will be removed in a future release. Please update your code. Note that the default `kind` in `factorplot` (`'point'`) has changed `'strip'` in `catplot`.\n",
      "  warnings.warn(msg)\n"
     ]
    },
    {
     "data": {
      "image/png": "[encoded data removed]",
      "text/plain": [
       "<Figure size 360x360 with 1 Axes>"
      ]
     },
     "metadata": {},
     "output_type": "display_data"
    }
   ],
   "source": [
    "cabin_bins = sns.factorplot(y=\"Survived\",x=\"Cabin\",data=linked_data)"
   ]
  },
  {
   "cell_type": "markdown",
   "id": "b16f8a9e",
   "metadata": {},
   "source": [
    "that is something I can use :) so:"
   ]
  },
  {
   "cell_type": "code",
   "execution_count": 63,
   "id": "5680d54c",
   "metadata": {
    "scrolled": true
   },
   "outputs": [],
   "source": [
    "df_train[\"Cabin\"] = pd.Series([i[0] if not pd.isnull(i) else 'X' for i in df_train['Cabin']])\n",
    "df_train['Cabin'].replace(['A','B','C','D','E','F','G','T','X'],[1,3,2,3,3,2,1,0,0], inplace = True)"
   ]
  },
  {
   "cell_type": "code",
   "execution_count": 64,
   "id": "53156d06",
   "metadata": {},
   "outputs": [],
   "source": [
    "df_test[\"Cabin\"] = pd.Series([i[0] if not pd.isnull(i) else 'X' for i in df_test['Cabin']])\n",
    "df_test['Cabin'].replace(['A','B','C','D','E','F','G','T','X'],[1,3,2,3,3,2,1,0,0], inplace = True)"
   ]
  },
  {
   "cell_type": "markdown",
   "id": "d89db238",
   "metadata": {},
   "source": [
    "### Family_size == SibSp + Parch"
   ]
  },
  {
   "cell_type": "code",
   "execution_count": 65,
   "id": "b84094d9",
   "metadata": {},
   "outputs": [],
   "source": [
    "df_train['family_size'] = df_train.loc [: , ['SibSp','Parch']].sum(axis=1)\n",
    "df_train['family_size'] = df_train['family_size'] + 1"
   ]
  },
  {
   "cell_type": "code",
   "execution_count": 66,
   "id": "18a608ad",
   "metadata": {},
   "outputs": [
    {
     "data": {
      "image/png": "[encoded data removed]",
      "text/plain": [
       "<Figure size 432x288 with 1 Axes>"
      ]
     },
     "metadata": {},
     "output_type": "display_data"
    }
   ],
   "source": [
    "family_size = sns.barplot(x=\"family_size\",y=\"Survived\", data=df_train, palette='rainbow')\n",
    "family_size = family_size.set_ylabel(\"Survival Probability\")"
   ]
  },
  {
   "cell_type": "code",
   "execution_count": 67,
   "id": "9a0cac2c",
   "metadata": {},
   "outputs": [],
   "source": [
    "df_test['family_size'] = df_test.loc [: , ['SibSp','Parch']].sum(axis=1)\n",
    "df_test['family_size'] = df_test['family_size'] + 1"
   ]
  },
  {
   "cell_type": "markdown",
   "id": "d2ac2bf4",
   "metadata": {},
   "source": [
    "### things I decided to add after some data modeling"
   ]
  },
  {
   "cell_type": "markdown",
   "id": "5da803ad",
   "metadata": {},
   "source": [
    "In future I will understand more about laws rullnig this kind of modeling, at this point when I used 'Fare_Per_Person' and 'Age*Class' and droped 'PassengerId','Age', 'SibSp', 'Parch', 'Fare', 'Name', 'Ticket' my output/predictions look better."
   ]
  },
  {
   "cell_type": "code",
   "execution_count": 68,
   "id": "828c752e",
   "metadata": {},
   "outputs": [],
   "source": [
    "df_train['Fare_Per_Person']=df_train['Fare']/(df_train['family_size'])\n",
    "df_test['Fare_Per_Person']=df_test['Fare']/(df_train['family_size'])"
   ]
  },
  {
   "cell_type": "code",
   "execution_count": 69,
   "id": "d5d817cb",
   "metadata": {},
   "outputs": [],
   "source": [
    "df_train['Age*Class']=df_train['Age']*df_train['Pclass']\n",
    "df_test['Age*Class']=df_test['Age']*df_test['Pclass']"
   ]
  },
  {
   "cell_type": "markdown",
   "id": "195e6912",
   "metadata": {},
   "source": [
    "### one last time check"
   ]
  },
  {
   "cell_type": "code",
   "execution_count": 70,
   "id": "b4988935",
   "metadata": {
    "scrolled": true
   },
   "outputs": [
    {
     "name": "stdout",
     "output_type": "stream",
     "text": [
      "<class 'pandas.core.frame.DataFrame'>\n",
      "RangeIndex: 418 entries, 0 to 417\n",
      "Data columns (total 17 columns):\n",
      " #   Column           Non-Null Count  Dtype   \n",
      "---  ------           --------------  -----   \n",
      " 0   PassengerId      418 non-null    int64   \n",
      " 1   Pclass           418 non-null    int64   \n",
      " 2   Name             418 non-null    object  \n",
      " 3   Sex              418 non-null    int64   \n",
      " 4   Age              418 non-null    float64 \n",
      " 5   SibSp            418 non-null    int64   \n",
      " 6   Parch            418 non-null    int64   \n",
      " 7   Ticket           418 non-null    object  \n",
      " 8   Fare             418 non-null    float64 \n",
      " 9   Cabin            418 non-null    int64   \n",
      " 10  Embarked         418 non-null    int64   \n",
      " 11  Title            418 non-null    int64   \n",
      " 12  Age_Bin          418 non-null    category\n",
      " 13  Fare_bin         418 non-null    int8    \n",
      " 14  family_size      418 non-null    int64   \n",
      " 15  Fare_Per_Person  418 non-null    float64 \n",
      " 16  Age*Class        418 non-null    float64 \n",
      "dtypes: category(1), float64(4), int64(9), int8(1), object(2)\n",
      "memory usage: 50.1+ KB\n"
     ]
    }
   ],
   "source": [
    "df_test.info()"
   ]
  },
  {
   "cell_type": "code",
   "execution_count": 71,
   "id": "4a3fd184",
   "metadata": {
    "scrolled": true
   },
   "outputs": [
    {
     "name": "stdout",
     "output_type": "stream",
     "text": [
      "<class 'pandas.core.frame.DataFrame'>\n",
      "RangeIndex: 891 entries, 0 to 890\n",
      "Data columns (total 18 columns):\n",
      " #   Column           Non-Null Count  Dtype   \n",
      "---  ------           --------------  -----   \n",
      " 0   PassengerId      891 non-null    int64   \n",
      " 1   Survived         891 non-null    int64   \n",
      " 2   Pclass           891 non-null    int64   \n",
      " 3   Name             891 non-null    object  \n",
      " 4   Sex              891 non-null    int64   \n",
      " 5   Age              891 non-null    float64 \n",
      " 6   SibSp            891 non-null    int64   \n",
      " 7   Parch            891 non-null    int64   \n",
      " 8   Ticket           891 non-null    object  \n",
      " 9   Fare             891 non-null    float64 \n",
      " 10  Cabin            891 non-null    int64   \n",
      " 11  Embarked         891 non-null    int64   \n",
      " 12  Title            891 non-null    int64   \n",
      " 13  Age_Bin          891 non-null    category\n",
      " 14  Fare_bin         891 non-null    int8    \n",
      " 15  family_size      891 non-null    int64   \n",
      " 16  Fare_Per_Person  891 non-null    float64 \n",
      " 17  Age*Class        891 non-null    float64 \n",
      "dtypes: category(1), float64(4), int64(10), int8(1), object(2)\n",
      "memory usage: 113.4+ KB\n"
     ]
    }
   ],
   "source": [
    "df_train.info()"
   ]
  },
  {
   "cell_type": "markdown",
   "id": "ff8db225",
   "metadata": {},
   "source": [
    "another way to check NaN"
   ]
  },
  {
   "cell_type": "code",
   "execution_count": 72,
   "id": "67a93af2",
   "metadata": {},
   "outputs": [
    {
     "data": {
      "text/plain": [
       "PassengerId        0\n",
       "Survived           0\n",
       "Pclass             0\n",
       "Name               0\n",
       "Sex                0\n",
       "Age                0\n",
       "SibSp              0\n",
       "Parch              0\n",
       "Ticket             0\n",
       "Fare               0\n",
       "Cabin              0\n",
       "Embarked           0\n",
       "Title              0\n",
       "Age_Bin            0\n",
       "Fare_bin           0\n",
       "family_size        0\n",
       "Fare_Per_Person    0\n",
       "Age*Class          0\n",
       "dtype: int64"
      ]
     },
     "execution_count": 72,
     "metadata": {},
     "output_type": "execute_result"
    }
   ],
   "source": [
    "df_train.isnull().sum()"
   ]
  },
  {
   "cell_type": "code",
   "execution_count": 73,
   "id": "93239888",
   "metadata": {
    "scrolled": false
   },
   "outputs": [
    {
     "data": {
      "text/plain": [
       "PassengerId        0\n",
       "Pclass             0\n",
       "Name               0\n",
       "Sex                0\n",
       "Age                0\n",
       "SibSp              0\n",
       "Parch              0\n",
       "Ticket             0\n",
       "Fare               0\n",
       "Cabin              0\n",
       "Embarked           0\n",
       "Title              0\n",
       "Age_Bin            0\n",
       "Fare_bin           0\n",
       "family_size        0\n",
       "Fare_Per_Person    0\n",
       "Age*Class          0\n",
       "dtype: int64"
      ]
     },
     "execution_count": 73,
     "metadata": {},
     "output_type": "execute_result"
    }
   ],
   "source": [
    "df_test.isnull().sum()"
   ]
  },
  {
   "cell_type": "code",
   "execution_count": 74,
   "id": "d39f68fb",
   "metadata": {
    "scrolled": true
   },
   "outputs": [
    {
     "data": {
      "image/png": "[encoded data removed]",
      "text/plain": [
       "<Figure size 720x576 with 2 Axes>"
      ]
     },
     "metadata": {},
     "output_type": "display_data"
    }
   ],
   "source": [
    "sns.heatmap(df_train.corr(),annot=True,cmap='RdYlGn',linewidths=0.2)\n",
    "fig=plt.gcf()\n",
    "fig.set_size_inches(10,8)\n",
    "plt.show()"
   ]
  },
  {
   "cell_type": "code",
   "execution_count": 75,
   "id": "f4b79bc8",
   "metadata": {
    "scrolled": true
   },
   "outputs": [
    {
     "data": {
      "text/plain": [
       "Index(['PassengerId', 'Pclass', 'Name', 'Sex', 'Age', 'SibSp', 'Parch',\n",
       "       'Ticket', 'Fare', 'Cabin', 'Embarked', 'Title', 'Age_Bin', 'Fare_bin',\n",
       "       'family_size', 'Fare_Per_Person', 'Age*Class'],\n",
       "      dtype='object')"
      ]
     },
     "execution_count": 75,
     "metadata": {},
     "output_type": "execute_result"
    }
   ],
   "source": [
    "df_test.keys()"
   ]
  },
  {
   "cell_type": "code",
   "execution_count": 76,
   "id": "8e2b0ef4",
   "metadata": {},
   "outputs": [],
   "source": [
    "df_train = df_train.drop(columns = ['PassengerId', 'Name', 'Ticket'], axis = 1)\n",
    "df_test = df_test.drop(columns = ['Name', 'Ticket'], axis = 1)"
   ]
  },
  {
   "cell_type": "markdown",
   "id": "48749a50",
   "metadata": {},
   "source": [
    "everything seems fine. I removed columns that do not contain 'proper' data"
   ]
  },
  {
   "cell_type": "markdown",
   "id": "e2c4947a",
   "metadata": {},
   "source": [
    "### ML tools"
   ]
  },
  {
   "cell_type": "markdown",
   "id": "fe15fd04",
   "metadata": {},
   "source": [
    "Scikit-learn (Sklearn) is a nice library for machine learning in Python. It provides a selection of efficient tools for machine learning and statistical modeling that I will use below.\n",
    "How will it help me?? I can see what the projected outcomes are, according to Sclearn 'tools', after analyzing a specific set of data. First, I put all the available columns."
   ]
  },
  {
   "cell_type": "code",
   "execution_count": 77,
   "id": "de66f185",
   "metadata": {},
   "outputs": [],
   "source": [
    "from sklearn.linear_model import LogisticRegression\n",
    "from sklearn.svm import SVC, LinearSVC\n",
    "from sklearn.ensemble import RandomForestClassifier\n",
    "from sklearn.neighbors import KNeighborsClassifier\n",
    "from sklearn.naive_bayes import GaussianNB\n",
    "from sklearn.linear_model import Perceptron\n",
    "from sklearn.linear_model import SGDClassifier\n",
    "from sklearn.tree import DecisionTreeClassifier"
   ]
  },
  {
   "cell_type": "code",
   "execution_count": 78,
   "id": "8e05b253",
   "metadata": {},
   "outputs": [
    {
     "data": {
      "text/plain": [
       "((891, 14), (891,), (418, 14))"
      ]
     },
     "execution_count": 78,
     "metadata": {},
     "output_type": "execute_result"
    }
   ],
   "source": [
    "X_train = df_train.drop(\"Survived\", axis=1)\n",
    "Y_train = df_train[\"Survived\"]\n",
    "X_test  = df_test.drop(\"PassengerId\", axis=1).copy()\n",
    "X_train.shape, Y_train.shape, X_test.shape"
   ]
  },
  {
   "cell_type": "code",
   "execution_count": 79,
   "id": "b8bca174",
   "metadata": {},
   "outputs": [
    {
     "data": {
      "text/plain": [
       "70.93"
      ]
     },
     "execution_count": 79,
     "metadata": {},
     "output_type": "execute_result"
    }
   ],
   "source": [
    "svc = SVC()\n",
    "svc.fit(X_train, Y_train)\n",
    "Y_pred = svc.predict(X_test)\n",
    "prediction_svc = round(svc.score(X_train, Y_train) * 100, 2)\n",
    "prediction_svc"
   ]
  },
  {
   "cell_type": "code",
   "execution_count": 80,
   "id": "59a5d2e3",
   "metadata": {},
   "outputs": [
    {
     "name": "stderr",
     "output_type": "stream",
     "text": [
      "/Users/Agata/anaconda3/lib/python3.9/site-packages/sklearn/svm/_base.py:1206: ConvergenceWarning: Liblinear failed to converge, increase the number of iterations.\n",
      "  warnings.warn(\n"
     ]
    },
    {
     "data": {
      "text/plain": [
       "77.67"
      ]
     },
     "execution_count": 80,
     "metadata": {},
     "output_type": "execute_result"
    }
   ],
   "source": [
    "linear_svc = LinearSVC()\n",
    "linear_svc.fit(X_train, Y_train)\n",
    "Y_pred = linear_svc.predict(X_test)\n",
    "prediction_linear_svc = round(linear_svc.score(X_train, Y_train) * 100, 2)\n",
    "prediction_linear_svc"
   ]
  },
  {
   "cell_type": "code",
   "execution_count": 81,
   "id": "32624522",
   "metadata": {},
   "outputs": [
    {
     "name": "stderr",
     "output_type": "stream",
     "text": [
      "/Users/Agata/anaconda3/lib/python3.9/site-packages/sklearn/linear_model/_logistic.py:814: ConvergenceWarning: lbfgs failed to converge (status=1):\n",
      "STOP: TOTAL NO. of ITERATIONS REACHED LIMIT.\n",
      "\n",
      "Increase the number of iterations (max_iter) or scale the data as shown in:\n",
      "    https://scikit-learn.org/stable/modules/preprocessing.html\n",
      "Please also refer to the documentation for alternative solver options:\n",
      "    https://scikit-learn.org/stable/modules/linear_model.html#logistic-regression\n",
      "  n_iter_i = _check_optimize_result(\n"
     ]
    },
    {
     "data": {
      "text/plain": [
       "81.59"
      ]
     },
     "execution_count": 81,
     "metadata": {},
     "output_type": "execute_result"
    }
   ],
   "source": [
    "logreg = LogisticRegression()\n",
    "logreg.fit(X_train, Y_train)\n",
    "Y_pred = logreg.predict(X_test)\n",
    "prediction_log = round(logreg.score(X_train, Y_train) * 100, 2)\n",
    "prediction_log"
   ]
  },
  {
   "cell_type": "code",
   "execution_count": 82,
   "id": "472414f0",
   "metadata": {},
   "outputs": [
    {
     "data": {
      "text/plain": [
       "98.77"
      ]
     },
     "execution_count": 82,
     "metadata": {},
     "output_type": "execute_result"
    }
   ],
   "source": [
    "decision_tree = DecisionTreeClassifier()\n",
    "decision_tree.fit(X_train, Y_train)\n",
    "Y_pred = decision_tree.predict(X_test)\n",
    "prediction_decision_tree = round(decision_tree.score(X_train, Y_train) * 100, 2)\n",
    "prediction_decision_tree"
   ]
  },
  {
   "cell_type": "code",
   "execution_count": 83,
   "id": "2ac12e63",
   "metadata": {},
   "outputs": [
    {
     "data": {
      "text/plain": [
       "69.81"
      ]
     },
     "execution_count": 83,
     "metadata": {},
     "output_type": "execute_result"
    }
   ],
   "source": [
    "perceptron = Perceptron()\n",
    "perceptron.fit(X_train, Y_train)\n",
    "Y_pred = perceptron.predict(X_test)\n",
    "prediction_perceptron = round(perceptron.score(X_train, Y_train) * 100, 2)\n",
    "prediction_perceptron"
   ]
  },
  {
   "cell_type": "code",
   "execution_count": 84,
   "id": "2b3d25a1",
   "metadata": {},
   "outputs": [
    {
     "data": {
      "text/plain": [
       "69.7"
      ]
     },
     "execution_count": 84,
     "metadata": {},
     "output_type": "execute_result"
    }
   ],
   "source": [
    "sgd = SGDClassifier()\n",
    "sgd.fit(X_train, Y_train)\n",
    "Y_pred = sgd.predict(X_test)\n",
    "prediction_sgd = round(sgd.score(X_train, Y_train) * 100, 2)\n",
    "prediction_sgd"
   ]
  },
  {
   "cell_type": "code",
   "execution_count": 85,
   "id": "f02dab19",
   "metadata": {},
   "outputs": [
    {
     "data": {
      "text/plain": [
       "98.77"
      ]
     },
     "execution_count": 85,
     "metadata": {},
     "output_type": "execute_result"
    }
   ],
   "source": [
    "random_forest = RandomForestClassifier(n_estimators=100)\n",
    "random_forest.fit(X_train, Y_train)\n",
    "Y_pred = random_forest.predict(X_test)\n",
    "random_forest.score(X_train, Y_train)\n",
    "prediction_random_forest = round(random_forest.score(X_train, Y_train) * 100, 2)\n",
    "prediction_random_forest"
   ]
  },
  {
   "cell_type": "code",
   "execution_count": 86,
   "id": "73e39d75",
   "metadata": {},
   "outputs": [
    {
     "data": {
      "text/plain": [
       "77.89"
      ]
     },
     "execution_count": 86,
     "metadata": {},
     "output_type": "execute_result"
    }
   ],
   "source": [
    "gaussian = GaussianNB()\n",
    "gaussian.fit(X_train, Y_train)\n",
    "Y_pred = gaussian.predict(X_test)\n",
    "prediction_gaussian = round(gaussian.score(X_train, Y_train) * 100, 2)\n",
    "prediction_gaussian"
   ]
  },
  {
   "cell_type": "code",
   "execution_count": 87,
   "id": "7aa68187",
   "metadata": {},
   "outputs": [
    {
     "data": {
      "text/plain": [
       "84.51"
      ]
     },
     "execution_count": 87,
     "metadata": {},
     "output_type": "execute_result"
    }
   ],
   "source": [
    "knn = KNeighborsClassifier(n_neighbors = 3)\n",
    "knn.fit(X_train, Y_train)\n",
    "Y_pred = knn.predict(X_test)\n",
    "prediction_knn = round(knn.score(X_train, Y_train) * 100, 2)\n",
    "prediction_knn"
   ]
  },
  {
   "cell_type": "code",
   "execution_count": 88,
   "id": "c9aa54b3",
   "metadata": {},
   "outputs": [
    {
     "data": {
      "text/plain": [
       "[84.51, 77.89, 98.77, 69.7, 69.81, 98.77, 81.59, 77.67, 70.93]"
      ]
     },
     "execution_count": 88,
     "metadata": {},
     "output_type": "execute_result"
    }
   ],
   "source": [
    "sc = []\n",
    "sc.append(prediction_knn)\n",
    "sc.append(prediction_gaussian)\n",
    "sc.append(prediction_random_forest)\n",
    "sc.append(prediction_sgd)\n",
    "sc.append(prediction_perceptron)\n",
    "sc.append(prediction_decision_tree)\n",
    "sc.append(prediction_log)\n",
    "sc.append(prediction_linear_svc)\n",
    "sc.append(prediction_svc)\n",
    "sc"
   ]
  },
  {
   "cell_type": "code",
   "execution_count": 89,
   "id": "102dfa91",
   "metadata": {},
   "outputs": [],
   "source": [
    "col = ['knn','gaussian', 'random_forest', 'sgd', 'perceptron', 'decision_tree', 'log', 'linear_svc', 'svc']"
   ]
  },
  {
   "cell_type": "code",
   "execution_count": 90,
   "id": "9e8503e8",
   "metadata": {
    "scrolled": false
   },
   "outputs": [
    {
     "data": {
      "text/html": [
       "<div>\n",
       "<style scoped>\n",
       "    .dataframe tbody tr th:only-of-type {\n",
       "        vertical-align: middle;\n",
       "    }\n",
       "\n",
       "    .dataframe tbody tr th {\n",
       "        vertical-align: top;\n",
       "    }\n",
       "\n",
       "    .dataframe thead th {\n",
       "        text-align: right;\n",
       "    }\n",
       "</style>\n",
       "<table border=\"1\" class=\"dataframe\">\n",
       "  <thead>\n",
       "    <tr style=\"text-align: right;\">\n",
       "      <th></th>\n",
       "      <th>sclearn_type</th>\n",
       "      <th>all_columns</th>\n",
       "    </tr>\n",
       "  </thead>\n",
       "  <tbody>\n",
       "    <tr>\n",
       "      <th>0</th>\n",
       "      <td>knn</td>\n",
       "      <td>84.51</td>\n",
       "    </tr>\n",
       "    <tr>\n",
       "      <th>1</th>\n",
       "      <td>gaussian</td>\n",
       "      <td>77.89</td>\n",
       "    </tr>\n",
       "    <tr>\n",
       "      <th>2</th>\n",
       "      <td>random_forest</td>\n",
       "      <td>98.77</td>\n",
       "    </tr>\n",
       "    <tr>\n",
       "      <th>3</th>\n",
       "      <td>sgd</td>\n",
       "      <td>69.70</td>\n",
       "    </tr>\n",
       "    <tr>\n",
       "      <th>4</th>\n",
       "      <td>perceptron</td>\n",
       "      <td>69.81</td>\n",
       "    </tr>\n",
       "    <tr>\n",
       "      <th>5</th>\n",
       "      <td>decision_tree</td>\n",
       "      <td>98.77</td>\n",
       "    </tr>\n",
       "    <tr>\n",
       "      <th>6</th>\n",
       "      <td>log</td>\n",
       "      <td>81.59</td>\n",
       "    </tr>\n",
       "    <tr>\n",
       "      <th>7</th>\n",
       "      <td>linear_svc</td>\n",
       "      <td>77.67</td>\n",
       "    </tr>\n",
       "    <tr>\n",
       "      <th>8</th>\n",
       "      <td>svc</td>\n",
       "      <td>70.93</td>\n",
       "    </tr>\n",
       "  </tbody>\n",
       "</table>\n",
       "</div>"
      ],
      "text/plain": [
       "    sclearn_type  all_columns\n",
       "0            knn        84.51\n",
       "1       gaussian        77.89\n",
       "2  random_forest        98.77\n",
       "3            sgd        69.70\n",
       "4     perceptron        69.81\n",
       "5  decision_tree        98.77\n",
       "6            log        81.59\n",
       "7     linear_svc        77.67\n",
       "8            svc        70.93"
      ]
     },
     "execution_count": 90,
     "metadata": {},
     "output_type": "execute_result"
    }
   ],
   "source": [
    "Sclearn_score = {'sclearn_type': col,\n",
    "      'all_columns': sc}\n",
    "\n",
    "new_df = pd.DataFrame(Sclearn_score)\n",
    "new_df"
   ]
  },
  {
   "cell_type": "markdown",
   "id": "f1ab75e0",
   "metadata": {},
   "source": [
    "important note here: I tried a dozen or so setting options, but when some tools said the results were better, others showed a worse result. So I have put all the columns here and left the results uninterpreted at this stage."
   ]
  },
  {
   "cell_type": "markdown",
   "id": "75da9f21",
   "metadata": {},
   "source": [
    "##### according to https://www.kaggle.com/c/titanic"
   ]
  },
  {
   "cell_type": "code",
   "execution_count": 91,
   "id": "e2d7ac3f",
   "metadata": {},
   "outputs": [
    {
     "data": {
      "text/html": [
       "<style type=\"text/css\">\n",
       "#T_dec99_row0_col0, #T_dec99_row0_col1, #T_dec99_row1_col0, #T_dec99_row1_col1, #T_dec99_row2_col0, #T_dec99_row2_col1, #T_dec99_row3_col0, #T_dec99_row3_col1, #T_dec99_row4_col0, #T_dec99_row4_col1, #T_dec99_row5_col0, #T_dec99_row5_col1, #T_dec99_row6_col0, #T_dec99_row6_col1, #T_dec99_row7_col0, #T_dec99_row7_col1, #T_dec99_row8_col0, #T_dec99_row8_col1, #T_dec99_row9_col0, #T_dec99_row9_col1, #T_dec99_row10_col0, #T_dec99_row10_col1, #T_dec99_row11_col0, #T_dec99_row11_col1, #T_dec99_row12_col0, #T_dec99_row12_col1, #T_dec99_row13_col0, #T_dec99_row13_col1, #T_dec99_row14_col0, #T_dec99_row14_col1, #T_dec99_row15_col0, #T_dec99_row15_col1, #T_dec99_row16_col0, #T_dec99_row16_col1, #T_dec99_row17_col0, #T_dec99_row17_col1, #T_dec99_row18_col0, #T_dec99_row18_col1, #T_dec99_row19_col0, #T_dec99_row19_col1 {\n",
       "  text-align: left;\n",
       "}\n",
       "</style>\n",
       "<table id=\"T_dec99\">\n",
       "  <thead>\n",
       "    <tr>\n",
       "      <th class=\"blank level0\" >&nbsp;</th>\n",
       "      <th id=\"T_dec99_level0_col0\" class=\"col_heading level0 col0\" >components</th>\n",
       "      <th id=\"T_dec99_level0_col1\" class=\"col_heading level0 col1\" >Kaggle_score</th>\n",
       "    </tr>\n",
       "  </thead>\n",
       "  <tbody>\n",
       "    <tr>\n",
       "      <th id=\"T_dec99_level0_row0\" class=\"row_heading level0 row0\" >0</th>\n",
       "      <td id=\"T_dec99_row0_col0\" class=\"data row0 col0\" >Pclass, Sex, Title, Cabin</td>\n",
       "      <td id=\"T_dec99_row0_col1\" class=\"data row0 col1\" >0.787080</td>\n",
       "    </tr>\n",
       "    <tr>\n",
       "      <th id=\"T_dec99_level0_row1\" class=\"row_heading level0 row1\" >1</th>\n",
       "      <td id=\"T_dec99_row1_col0\" class=\"data row1 col0\" >Pclass, Sex, Embarked, Title, Age, SibSp, Parch, Fare_Per_Person, Age*Class</td>\n",
       "      <td id=\"T_dec99_row1_col1\" class=\"data row1 col1\" >0.782290</td>\n",
       "    </tr>\n",
       "    <tr>\n",
       "      <th id=\"T_dec99_level0_row2\" class=\"row_heading level0 row2\" >2</th>\n",
       "      <td id=\"T_dec99_row2_col0\" class=\"data row2 col0\" >Pclass, Sex, Title, Embarked, Cabin, Fare</td>\n",
       "      <td id=\"T_dec99_row2_col1\" class=\"data row2 col1\" >0.782290</td>\n",
       "    </tr>\n",
       "    <tr>\n",
       "      <th id=\"T_dec99_level0_row3\" class=\"row_heading level0 row3\" >3</th>\n",
       "      <td id=\"T_dec99_row3_col0\" class=\"data row3 col0\" >Pclass, Sex, Age, SibSp, Parch, Title, Embarked, Cabin</td>\n",
       "      <td id=\"T_dec99_row3_col1\" class=\"data row3 col1\" >0.779900</td>\n",
       "    </tr>\n",
       "    <tr>\n",
       "      <th id=\"T_dec99_level0_row4\" class=\"row_heading level0 row4\" >4</th>\n",
       "      <td id=\"T_dec99_row4_col0\" class=\"data row4 col0\" >Pclass, Sex, SibSp, Parch, Cabin, Embarked, Title, Age, Fare, family_size, Fare_Per_Person, Age*Class</td>\n",
       "      <td id=\"T_dec99_row4_col1\" class=\"data row4 col1\" >0.777510</td>\n",
       "    </tr>\n",
       "    <tr>\n",
       "      <th id=\"T_dec99_level0_row5\" class=\"row_heading level0 row5\" >5</th>\n",
       "      <td id=\"T_dec99_row5_col0\" class=\"data row5 col0\" >Pclass, Sex, Cabin, Embarked, Title, Age, Fare, family_size, Fare_Per_Person</td>\n",
       "      <td id=\"T_dec99_row5_col1\" class=\"data row5 col1\" >0.775110</td>\n",
       "    </tr>\n",
       "    <tr>\n",
       "      <th id=\"T_dec99_level0_row6\" class=\"row_heading level0 row6\" >6</th>\n",
       "      <td id=\"T_dec99_row6_col0\" class=\"data row6 col0\" >Pclass, Title, Sex, Cabin, Fare, family_size</td>\n",
       "      <td id=\"T_dec99_row6_col1\" class=\"data row6 col1\" >0.775110</td>\n",
       "    </tr>\n",
       "    <tr>\n",
       "      <th id=\"T_dec99_level0_row7\" class=\"row_heading level0 row7\" >7</th>\n",
       "      <td id=\"T_dec99_row7_col0\" class=\"data row7 col0\" >Pclass, Title, Cabin</td>\n",
       "      <td id=\"T_dec99_row7_col1\" class=\"data row7 col1\" >0.775110</td>\n",
       "    </tr>\n",
       "    <tr>\n",
       "      <th id=\"T_dec99_level0_row8\" class=\"row_heading level0 row8\" >8</th>\n",
       "      <td id=\"T_dec99_row8_col0\" class=\"data row8 col0\" >All</td>\n",
       "      <td id=\"T_dec99_row8_col1\" class=\"data row8 col1\" >0.775110</td>\n",
       "    </tr>\n",
       "    <tr>\n",
       "      <th id=\"T_dec99_level0_row9\" class=\"row_heading level0 row9\" >9</th>\n",
       "      <td id=\"T_dec99_row9_col0\" class=\"data row9 col0\" >Pclass, Sex, Age</td>\n",
       "      <td id=\"T_dec99_row9_col1\" class=\"data row9 col1\" >0.775110</td>\n",
       "    </tr>\n",
       "    <tr>\n",
       "      <th id=\"T_dec99_level0_row10\" class=\"row_heading level0 row10\" >10</th>\n",
       "      <td id=\"T_dec99_row10_col0\" class=\"data row10 col0\" >Pclass, Sex, Age, Fare, Embarked, Title, Fare_bin, family_size, Fare_Per_Person, Age*Class</td>\n",
       "      <td id=\"T_dec99_row10_col1\" class=\"data row10 col1\" >0.772720</td>\n",
       "    </tr>\n",
       "    <tr>\n",
       "      <th id=\"T_dec99_level0_row11\" class=\"row_heading level0 row11\" >11</th>\n",
       "      <td id=\"T_dec99_row11_col0\" class=\"data row11 col0\" >Pclass, Sex, Age, Fare, Embarked, Title, family_size</td>\n",
       "      <td id=\"T_dec99_row11_col1\" class=\"data row11 col1\" >0.772720</td>\n",
       "    </tr>\n",
       "    <tr>\n",
       "      <th id=\"T_dec99_level0_row12\" class=\"row_heading level0 row12\" >12</th>\n",
       "      <td id=\"T_dec99_row12_col0\" class=\"data row12 col0\" >Pclass, Sex, Age, Fare, Embarked, Title, Fare_bin, family_size</td>\n",
       "      <td id=\"T_dec99_row12_col1\" class=\"data row12 col1\" >0.772720</td>\n",
       "    </tr>\n",
       "    <tr>\n",
       "      <th id=\"T_dec99_level0_row13\" class=\"row_heading level0 row13\" >13</th>\n",
       "      <td id=\"T_dec99_row13_col0\" class=\"data row13 col0\" >Pclass, Sex, SibSp, Parch,Cabin, Embarked, Title, Age_Bin, Fare_bin, family_size, Fare_Per_Person, Age*Class</td>\n",
       "      <td id=\"T_dec99_row13_col1\" class=\"data row13 col1\" >0.770330</td>\n",
       "    </tr>\n",
       "    <tr>\n",
       "      <th id=\"T_dec99_level0_row14\" class=\"row_heading level0 row14\" >14</th>\n",
       "      <td id=\"T_dec99_row14_col0\" class=\"data row14 col0\" >Pclass, Sex, Embarked, Title, Age, Fare, SibSp, Parch, Fare_Per_Person, Age*Class</td>\n",
       "      <td id=\"T_dec99_row14_col1\" class=\"data row14 col1\" >0.767940</td>\n",
       "    </tr>\n",
       "    <tr>\n",
       "      <th id=\"T_dec99_level0_row15\" class=\"row_heading level0 row15\" >15</th>\n",
       "      <td id=\"T_dec99_row15_col0\" class=\"data row15 col0\" >Pclass, Sex, Age, Fare, Cabin, Embarked, Title, family_size, Fare_Per_Person, Age*Class</td>\n",
       "      <td id=\"T_dec99_row15_col1\" class=\"data row15 col1\" >0.765550</td>\n",
       "    </tr>\n",
       "    <tr>\n",
       "      <th id=\"T_dec99_level0_row16\" class=\"row_heading level0 row16\" >16</th>\n",
       "      <td id=\"T_dec99_row16_col0\" class=\"data row16 col0\" >Pclass, Sex, Title, Cabin, Age</td>\n",
       "      <td id=\"T_dec99_row16_col1\" class=\"data row16 col1\" >0.760760</td>\n",
       "    </tr>\n",
       "    <tr>\n",
       "      <th id=\"T_dec99_level0_row17\" class=\"row_heading level0 row17\" >17</th>\n",
       "      <td id=\"T_dec99_row17_col0\" class=\"data row17 col0\" >Pclass, Title, Sex, Cabin, Fare_Per_Person</td>\n",
       "      <td id=\"T_dec99_row17_col1\" class=\"data row17 col1\" >0.760760</td>\n",
       "    </tr>\n",
       "    <tr>\n",
       "      <th id=\"T_dec99_level0_row18\" class=\"row_heading level0 row18\" >18</th>\n",
       "      <td id=\"T_dec99_row18_col0\" class=\"data row18 col0\" >Age*Class, Sex, Title</td>\n",
       "      <td id=\"T_dec99_row18_col1\" class=\"data row18 col1\" >0.755980</td>\n",
       "    </tr>\n",
       "    <tr>\n",
       "      <th id=\"T_dec99_level0_row19\" class=\"row_heading level0 row19\" >19</th>\n",
       "      <td id=\"T_dec99_row19_col0\" class=\"data row19 col0\" >Age_Bin, family_size, Fare_Per_Person, Age*Class, Fare_bin</td>\n",
       "      <td id=\"T_dec99_row19_col1\" class=\"data row19 col1\" >0.686600</td>\n",
       "    </tr>\n",
       "  </tbody>\n",
       "</table>\n"
      ],
      "text/plain": [
       "<pandas.io.formats.style.Styler at 0x130b0a910>"
      ]
     },
     "metadata": {},
     "output_type": "display_data"
    }
   ],
   "source": [
    "Kaggle_score = [0.78229, 0.77751, 0.77511, 0.77511, 0.77272, 0.77272, 0.77272, 0.77033, 0.76794,\n",
    "                0.76555, 0.77511, 0.75598, 0.78708, 0.76076, 0.77511, 0.76076, 0.77511, 0.68660,\n",
    "                0.77990, 0.78229]\n",
    "\n",
    "components = ['Pclass, Sex, Embarked, Title, Age, SibSp, Parch, Fare_Per_Person, Age*Class',\n",
    "'Pclass, Sex, SibSp, Parch, Cabin, Embarked, Title, Age, Fare, family_size, Fare_Per_Person, Age*Class',\n",
    "'All',\n",
    "'Pclass, Sex, Cabin, Embarked, Title, Age, Fare, family_size, Fare_Per_Person', \n",
    "'Pclass, Sex, Age, Fare, Embarked, Title, Fare_bin, family_size, Fare_Per_Person, Age*Class', \n",
    "'Pclass, Sex, Age, Fare, Embarked, Title, Fare_bin, family_size',\n",
    "'Pclass, Sex, Age, Fare, Embarked, Title, family_size', \n",
    "'Pclass, Sex, SibSp, Parch,Cabin, Embarked, Title, Age_Bin, Fare_bin, family_size, Fare_Per_Person, Age*Class', \n",
    "'Pclass, Sex, Embarked, Title, Age, Fare, SibSp, Parch, Fare_Per_Person, Age*Class',\n",
    "'Pclass, Sex, Age, Fare, Cabin, Embarked, Title, family_size, Fare_Per_Person, Age*Class',\n",
    "'Pclass, Sex, Age',\n",
    "'Age*Class, Sex, Title',\n",
    "'Pclass, Sex, Title, Cabin',\n",
    "'Pclass, Sex, Title, Cabin, Age',\n",
    "'Pclass, Title, Cabin',\n",
    "'Pclass, Title, Sex, Cabin, Fare_Per_Person',\n",
    "'Pclass, Title, Sex, Cabin, Fare, family_size',\n",
    "'Age_Bin, family_size, Fare_Per_Person, Age*Class, Fare_bin',\n",
    "'Pclass, Sex, Age, SibSp, Parch, Title, Embarked, Cabin',\n",
    "'Pclass, Sex, Title, Embarked, Cabin, Fare'\n",
    "]\n",
    "\n",
    "\n",
    "table = {'components': components,\n",
    "         'Kaggle_score': Kaggle_score\n",
    "         }\n",
    "Kaggle_score_df = pd.DataFrame(table)\n",
    "pd.options.display.max_colwidth = 150\n",
    "Kaggle_score_df.sort_values(by=['Kaggle_score'], inplace = True, ascending=False, ignore_index=True)\n",
    "left_aligned_df = Kaggle_score_df.style.set_properties(**{'text-align': 'left'})\n",
    "display(left_aligned_df)\n"
   ]
  },
  {
   "cell_type": "markdown",
   "id": "75e173c2",
   "metadata": {},
   "source": [
    "What can we see here? Kaggle.com allows 10 attempts a day. Above You can see all of my attempts (20) and with what set of data (columns) I was able to achieve it.\n",
    "Before I start with my conclusions, it should be noted that Kaggle uses the RandomForestClassifier here and if we had used a different tool the results would probably have been different from the present ones. So:\n",
    "- bins weren`t helpful, at least in my best 4 scores, so it seems this set of decision trees prefer more 'distributed data',\n",
    "- the sum of all columns [All] has the fourth best score, so I can say there is strength in quantity. There is a 0.01197 difference between best result and All result, which is almost 1.2%. It is a lot in some cases,  \n",
    "- the last result is far from the rest. Probably the reason is that the data used is imprecise (2 out of 5 are bins) and the other 3 were created by combining existing columns according to the logic 1 + 1 = 1,\n",
    "- the difference between the first and the last but one result is 0.0311 or 3.11%. We operate here with 14 columns, out of 19 attempts it does not seem to be a significant range, and\n",
    "- the best result was achieved with just 4 columns (Pclass, Sex, Title, Cabin), as we can see below these are 4 of the 5 most correlated columns with 'Survived'. I must add here that the presence in the 'winning four' of Pclass, Sex and Title is not surprising for me. Previous data analysis clearly showed how important Pclass and Sex were. The Title refers mainly to gender and age, and in my opinion very efficiently (high entropy) divides the group into bins. However, the presence of Cabin, WOW .. this is just an unexpected 'twist'. Let me just remind you that I originally planned to drop this column because 77.1% of the data was missing! 77%!! You never know. Cool lesson for me:)\n",
    "\n",
    "P.S. I did a quick Kaggle test and checked the result for the 4 best correlated with Survived, that is: \"Sex\", \"Title\", \"Age*Class\", \"Cabin\" and the score is.. 0.74880. I have to say it again:  correlation does not equal causation:)"
   ]
  },
  {
   "cell_type": "code",
   "execution_count": 92,
   "id": "8f5ab081",
   "metadata": {},
   "outputs": [
    {
     "data": {
      "text/html": [
       "<div>\n",
       "<style scoped>\n",
       "    .dataframe tbody tr th:only-of-type {\n",
       "        vertical-align: middle;\n",
       "    }\n",
       "\n",
       "    .dataframe tbody tr th {\n",
       "        vertical-align: top;\n",
       "    }\n",
       "\n",
       "    .dataframe thead th {\n",
       "        text-align: right;\n",
       "    }\n",
       "</style>\n",
       "<table border=\"1\" class=\"dataframe\">\n",
       "  <thead>\n",
       "    <tr style=\"text-align: right;\">\n",
       "      <th></th>\n",
       "      <th>main_col</th>\n",
       "      <th>col_name</th>\n",
       "      <th>correlation</th>\n",
       "    </tr>\n",
       "  </thead>\n",
       "  <tbody>\n",
       "    <tr>\n",
       "      <th>27</th>\n",
       "      <td>Survived</td>\n",
       "      <td>Sex</td>\n",
       "      <td>0.543351</td>\n",
       "    </tr>\n",
       "    <tr>\n",
       "      <th>36</th>\n",
       "      <td>Survived</td>\n",
       "      <td>Title</td>\n",
       "      <td>0.425396</td>\n",
       "    </tr>\n",
       "    <tr>\n",
       "      <th>50</th>\n",
       "      <td>Survived</td>\n",
       "      <td>Cabin</td>\n",
       "      <td>0.332804</td>\n",
       "    </tr>\n",
       "    <tr>\n",
       "      <th>55</th>\n",
       "      <td>Survived</td>\n",
       "      <td>Fare_bin</td>\n",
       "      <td>0.299357</td>\n",
       "    </tr>\n",
       "    <tr>\n",
       "      <th>59</th>\n",
       "      <td>Survived</td>\n",
       "      <td>Fare</td>\n",
       "      <td>0.257307</td>\n",
       "    </tr>\n",
       "    <tr>\n",
       "      <th>68</th>\n",
       "      <td>Survived</td>\n",
       "      <td>Fare_Per_Person</td>\n",
       "      <td>0.221600</td>\n",
       "    </tr>\n",
       "    <tr>\n",
       "      <th>94</th>\n",
       "      <td>Survived</td>\n",
       "      <td>Embarked</td>\n",
       "      <td>0.106811</td>\n",
       "    </tr>\n",
       "    <tr>\n",
       "      <th>102</th>\n",
       "      <td>Survived</td>\n",
       "      <td>Parch</td>\n",
       "      <td>0.081629</td>\n",
       "    </tr>\n",
       "    <tr>\n",
       "      <th>120</th>\n",
       "      <td>Survived</td>\n",
       "      <td>family_size</td>\n",
       "      <td>0.016639</td>\n",
       "    </tr>\n",
       "    <tr>\n",
       "      <th>130</th>\n",
       "      <td>Survived</td>\n",
       "      <td>SibSp</td>\n",
       "      <td>-0.035322</td>\n",
       "    </tr>\n",
       "    <tr>\n",
       "      <th>144</th>\n",
       "      <td>Survived</td>\n",
       "      <td>Age</td>\n",
       "      <td>-0.090133</td>\n",
       "    </tr>\n",
       "    <tr>\n",
       "      <th>172</th>\n",
       "      <td>Survived</td>\n",
       "      <td>Pclass</td>\n",
       "      <td>-0.338481</td>\n",
       "    </tr>\n",
       "    <tr>\n",
       "      <th>177</th>\n",
       "      <td>Survived</td>\n",
       "      <td>Age*Class</td>\n",
       "      <td>-0.346442</td>\n",
       "    </tr>\n",
       "  </tbody>\n",
       "</table>\n",
       "</div>"
      ],
      "text/plain": [
       "     main_col         col_name  correlation\n",
       "27   Survived              Sex     0.543351\n",
       "36   Survived            Title     0.425396\n",
       "50   Survived            Cabin     0.332804\n",
       "55   Survived         Fare_bin     0.299357\n",
       "59   Survived             Fare     0.257307\n",
       "68   Survived  Fare_Per_Person     0.221600\n",
       "94   Survived         Embarked     0.106811\n",
       "102  Survived            Parch     0.081629\n",
       "120  Survived      family_size     0.016639\n",
       "130  Survived            SibSp    -0.035322\n",
       "144  Survived              Age    -0.090133\n",
       "172  Survived           Pclass    -0.338481\n",
       "177  Survived        Age*Class    -0.346442"
      ]
     },
     "execution_count": 92,
     "metadata": {},
     "output_type": "execute_result"
    }
   ],
   "source": [
    "surv_col_corr = df_train.corr().unstack().sort_values(ascending=False) \n",
    "surv_col_corr = pd.DataFrame(surv_col_corr).reset_index()\n",
    "surv_col_corr.columns = ['main_col', 'col_name', 'correlation']\n",
    "surv_col_corr.query(\"main_col == 'Survived' & col_name != 'Survived'\") "
   ]
  },
  {
   "cell_type": "markdown",
   "id": "47b782b6",
   "metadata": {},
   "source": []
  },
  {
   "cell_type": "markdown",
   "id": "7967be2f",
   "metadata": {},
   "source": [
    "Thank You for reading my project. If you have any comments, I will be glad to hear from you. Half a year ago I didn't even have a laptop, and now I can do such interesting analyzes and this is just the beginning of my path. I am curious what the future will bring.\n",
    "Have a nice day :)"
   ]
  }
 ],
 "metadata": {
  "kernelspec": {
   "display_name": "Python 3 (ipykernel)",
   "language": "python",
   "name": "python3"
  },
  "language_info": {
   "codemirror_mode": {
    "name": "ipython",
    "version": 3
   },
   "file_extension": ".py",
   "mimetype": "text/x-python",
   "name": "python",
   "nbconvert_exporter": "python",
   "pygments_lexer": "ipython3",
   "version": "3.9.12"
  }
 },
 "nbformat": 4,
 "nbformat_minor": 5
}
